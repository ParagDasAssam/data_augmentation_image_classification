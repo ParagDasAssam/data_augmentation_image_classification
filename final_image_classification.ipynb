{
  "nbformat": 4,
  "nbformat_minor": 0,
  "metadata": {
    "kernelspec": {
      "display_name": "Python 3",
      "language": "python",
      "name": "python3"
    },
    "language_info": {
      "codemirror_mode": {
        "name": "ipython",
        "version": 3
      },
      "file_extension": ".py",
      "mimetype": "text/x-python",
      "name": "python",
      "nbconvert_exporter": "python",
      "pygments_lexer": "ipython3",
      "version": "3.6.1"
    },
    "colab": {
      "name": "final_image_classification.ipynb",
      "provenance": []
    },
    "accelerator": "GPU"
  },
  "cells": [
    {
      "cell_type": "code",
      "metadata": {
        "id": "73WGGkMtGShC",
        "colab_type": "code",
        "colab": {}
      },
      "source": [
        "import numpy as np\n",
        "import pandas as pd\n",
        "import matplotlib.pyplot as plt\n",
        "import cv2\n",
        "import math\n",
        "import os\n",
        "import tensorflow as tf\n",
        "from tensorflow.keras import optimizers\n",
        "from tensorflow.keras.datasets import cifar10\n",
        "from tensorflow.keras.models import Sequential\n",
        "from tensorflow.keras.layers import Dense, Dropout, Activation, Flatten, Conv2D, MaxPooling2D"
      ],
      "execution_count": 1,
      "outputs": []
    },
    {
      "cell_type": "code",
      "metadata": {
        "id": "11E89MUEHADI",
        "colab_type": "code",
        "colab": {
          "base_uri": "https://localhost:8080/",
          "height": 52
        },
        "outputId": "1b1621d7-b8a4-46c2-a878-b3c591f9aa8c"
      },
      "source": [
        "(trainX, trainy), (testX, testy) = cifar10.load_data()"
      ],
      "execution_count": 2,
      "outputs": [
        {
          "output_type": "stream",
          "text": [
            "Downloading data from https://www.cs.toronto.edu/~kriz/cifar-10-python.tar.gz\n",
            "170500096/170498071 [==============================] - 11s 0us/step\n"
          ],
          "name": "stdout"
        }
      ]
    },
    {
      "cell_type": "code",
      "metadata": {
        "id": "HFTxXUF6MdBz",
        "colab_type": "code",
        "colab": {
          "base_uri": "https://localhost:8080/",
          "height": 35
        },
        "outputId": "fed8b30d-9815-48c3-bd13-c7d1d7837128"
      },
      "source": [
        "print(cifar10.load_data.__class__)"
      ],
      "execution_count": 13,
      "outputs": [
        {
          "output_type": "stream",
          "text": [
            "<class 'function'>\n"
          ],
          "name": "stdout"
        }
      ]
    },
    {
      "cell_type": "code",
      "metadata": {
        "id": "KH91A03uHARd",
        "colab_type": "code",
        "colab": {
          "base_uri": "https://localhost:8080/",
          "height": 87
        },
        "outputId": "ccec74f2-254f-4ae3-8403-734e1ceaf439"
      },
      "source": [
        "print(len(trainX),trainX.shape)\n",
        "print(len(trainy))\n",
        "print(len(testX),testX.shape)\n",
        "print(len(testy),testy[1])"
      ],
      "execution_count": 9,
      "outputs": [
        {
          "output_type": "stream",
          "text": [
            "50000 (50000, 32, 32, 3)\n",
            "50000\n",
            "10000 (10000, 32, 32, 3)\n",
            "10000 [8]\n"
          ],
          "name": "stdout"
        }
      ]
    },
    {
      "cell_type": "code",
      "metadata": {
        "id": "9ncQOUTjHNWr",
        "colab_type": "code",
        "colab": {
          "base_uri": "https://localhost:8080/",
          "height": 87
        },
        "outputId": "48b07caa-76fa-4494-a307-a6bc348be3d9"
      },
      "source": [
        "X_train = trainX[:45000]\n",
        "print(len(X_train))\n",
        "y_train = trainy[:45000]\n",
        "print(len(y_train))\n",
        "X_valid = trainX[45000:]\n",
        "print(len(X_valid))\n",
        "y_valid = trainy[45000:]\n",
        "print(len(y_valid))\n",
        "X_test = testX\n",
        "y_test = testy"
      ],
      "execution_count": 14,
      "outputs": [
        {
          "output_type": "stream",
          "text": [
            "45000\n",
            "45000\n",
            "5000\n",
            "5000\n"
          ],
          "name": "stdout"
        }
      ]
    },
    {
      "cell_type": "code",
      "metadata": {
        "id": "uTxHKGlkQwRe",
        "colab_type": "code",
        "colab": {
          "base_uri": "https://localhost:8080/",
          "height": 35
        },
        "outputId": "25f46f8e-d490-4eff-abcb-b81659501948"
      },
      "source": [
        "catagories = np.unique(y_train)\n",
        "print(catagories)"
      ],
      "execution_count": 16,
      "outputs": [
        {
          "output_type": "stream",
          "text": [
            "[0 1 2 3 4 5 6 7 8 9]\n"
          ],
          "name": "stdout"
        }
      ]
    },
    {
      "cell_type": "code",
      "metadata": {
        "id": "sqQo8qrdQwaf",
        "colab_type": "code",
        "colab": {}
      },
      "source": [
        ""
      ],
      "execution_count": null,
      "outputs": []
    },
    {
      "cell_type": "code",
      "metadata": {
        "id": "tb2i9PddHv3G",
        "colab_type": "code",
        "colab": {
          "base_uri": "https://localhost:8080/",
          "height": 748
        },
        "outputId": "e3303dff-affc-4e0b-90f5-0f1db46c310a"
      },
      "source": [
        "model = Sequential()\n",
        "\n",
        "model.add(Conv2D(64, (3, 3), padding='same', input_shape=(32,32,3)))\n",
        "model.add(Activation('relu'))\n",
        "model.add(MaxPooling2D(pool_size=(2, 2)))\n",
        "model.add(Dropout(0.25))\n",
        "\n",
        "model.add(Conv2D(128, (3, 3)))\n",
        "model.add(Activation('relu'))\n",
        "model.add(MaxPooling2D(pool_size=(2, 2)))\n",
        "model.add(Dropout(0.25))\n",
        "\n",
        "model.add(Conv2D(256, (3, 3), padding='same'))\n",
        "model.add(Activation('relu'))\n",
        "model.add(MaxPooling2D(pool_size=(2, 2)))\n",
        "model.add(Dropout(0.25))\n",
        "\n",
        "# model.add(Conv2D(64, (3, 3)))\n",
        "# model.add(Activation('relu'))\n",
        "# model.add(MaxPooling2D(pool_size=(2, 2)))\n",
        "# model.add(Dropout(0.25))\n",
        "\n",
        "\n",
        "model.add(Flatten())\n",
        "model.add(Dense(512))\n",
        "model.add(Activation('relu'))\n",
        "model.add(Dropout(0.25))\n",
        "\n",
        "model.add(Dense(10, activation='softmax'))\n",
        "model.compile(optimizers.RMSprop(lr=0.0001, decay=1e-6),loss=\"sparse_categorical_crossentropy\",metrics=[\"accuracy\"])\n",
        "\n",
        "model.fit(X_train, y_train, batch_size=100, epochs=20,validation_split=0.1)"
      ],
      "execution_count": 5,
      "outputs": [
        {
          "output_type": "stream",
          "text": [
            "Epoch 1/20\n",
            "405/405 [==============================] - 9s 23ms/step - loss: 4.3750 - accuracy: 0.2087 - val_loss: 1.8729 - val_accuracy: 0.3578\n",
            "Epoch 2/20\n",
            "405/405 [==============================] - 9s 23ms/step - loss: 1.7544 - accuracy: 0.3527 - val_loss: 1.6490 - val_accuracy: 0.4169\n",
            "Epoch 3/20\n",
            "405/405 [==============================] - 9s 23ms/step - loss: 1.5772 - accuracy: 0.4236 - val_loss: 1.5265 - val_accuracy: 0.4396\n",
            "Epoch 4/20\n",
            "405/405 [==============================] - 9s 23ms/step - loss: 1.4615 - accuracy: 0.4695 - val_loss: 1.3484 - val_accuracy: 0.5340\n",
            "Epoch 5/20\n",
            "405/405 [==============================] - 9s 23ms/step - loss: 1.3753 - accuracy: 0.5050 - val_loss: 1.2683 - val_accuracy: 0.5576\n",
            "Epoch 6/20\n",
            "405/405 [==============================] - 9s 23ms/step - loss: 1.2991 - accuracy: 0.5345 - val_loss: 1.1865 - val_accuracy: 0.5853\n",
            "Epoch 7/20\n",
            "405/405 [==============================] - 9s 23ms/step - loss: 1.2285 - accuracy: 0.5616 - val_loss: 1.1816 - val_accuracy: 0.5953\n",
            "Epoch 8/20\n",
            "405/405 [==============================] - 9s 23ms/step - loss: 1.1683 - accuracy: 0.5864 - val_loss: 1.1097 - val_accuracy: 0.6056\n",
            "Epoch 9/20\n",
            "405/405 [==============================] - 9s 23ms/step - loss: 1.1266 - accuracy: 0.6039 - val_loss: 1.0638 - val_accuracy: 0.6213\n",
            "Epoch 10/20\n",
            "405/405 [==============================] - 9s 23ms/step - loss: 1.0778 - accuracy: 0.6197 - val_loss: 1.0213 - val_accuracy: 0.6404\n",
            "Epoch 11/20\n",
            "405/405 [==============================] - 9s 23ms/step - loss: 1.0406 - accuracy: 0.6339 - val_loss: 0.9661 - val_accuracy: 0.6673\n",
            "Epoch 12/20\n",
            "405/405 [==============================] - 9s 23ms/step - loss: 0.9991 - accuracy: 0.6516 - val_loss: 0.9550 - val_accuracy: 0.6702\n",
            "Epoch 13/20\n",
            "405/405 [==============================] - 9s 23ms/step - loss: 0.9752 - accuracy: 0.6596 - val_loss: 0.9265 - val_accuracy: 0.6798\n",
            "Epoch 14/20\n",
            "405/405 [==============================] - 9s 23ms/step - loss: 0.9381 - accuracy: 0.6724 - val_loss: 0.8870 - val_accuracy: 0.6929\n",
            "Epoch 15/20\n",
            "405/405 [==============================] - 9s 23ms/step - loss: 0.9125 - accuracy: 0.6827 - val_loss: 0.8681 - val_accuracy: 0.6962\n",
            "Epoch 16/20\n",
            "405/405 [==============================] - 9s 23ms/step - loss: 0.8835 - accuracy: 0.6940 - val_loss: 0.8339 - val_accuracy: 0.7151\n",
            "Epoch 17/20\n",
            "405/405 [==============================] - 9s 23ms/step - loss: 0.8591 - accuracy: 0.7018 - val_loss: 0.8206 - val_accuracy: 0.7202\n",
            "Epoch 18/20\n",
            "405/405 [==============================] - 9s 23ms/step - loss: 0.8417 - accuracy: 0.7095 - val_loss: 0.8016 - val_accuracy: 0.7300\n",
            "Epoch 19/20\n",
            "405/405 [==============================] - 9s 23ms/step - loss: 0.8168 - accuracy: 0.7150 - val_loss: 0.7735 - val_accuracy: 0.7376\n",
            "Epoch 20/20\n",
            "405/405 [==============================] - 9s 23ms/step - loss: 0.7947 - accuracy: 0.7227 - val_loss: 0.7665 - val_accuracy: 0.7438\n"
          ],
          "name": "stdout"
        },
        {
          "output_type": "execute_result",
          "data": {
            "text/plain": [
              "<tensorflow.python.keras.callbacks.History at 0x7fb79ee19908>"
            ]
          },
          "metadata": {
            "tags": []
          },
          "execution_count": 5
        }
      ]
    },
    {
      "cell_type": "code",
      "metadata": {
        "id": "zkLLroQZHwBk",
        "colab_type": "code",
        "colab": {
          "base_uri": "https://localhost:8080/",
          "height": 52
        },
        "outputId": "b4ae79e1-a9e1-4317-d085-00d24653f156"
      },
      "source": [
        "test_eval = model.evaluate(X_valid, y_valid, verbose=0)\n",
        "print('Test loss:', test_eval[0])\n",
        "print('Test accuracy:', test_eval[1])"
      ],
      "execution_count": 6,
      "outputs": [
        {
          "output_type": "stream",
          "text": [
            "Test loss: 0.7365244030952454\n",
            "Test accuracy: 0.7526000142097473\n"
          ],
          "name": "stdout"
        }
      ]
    },
    {
      "cell_type": "code",
      "metadata": {
        "id": "dk8y6aV0HwML",
        "colab_type": "code",
        "colab": {
          "base_uri": "https://localhost:8080/",
          "height": 235
        },
        "outputId": "1d8074d1-6ea2-4f33-fa85-a2755299d405"
      },
      "source": [
        "# creating a reverse catagory\n",
        "catagories = list(set(y_train))\n",
        "print(catagories)\n",
        "reverse_catagory = {i:n for n,i in catagories.items()}\n",
        "reverse_catagory[10] = \"other\"\n",
        "print(reverse_catagory)"
      ],
      "execution_count": 8,
      "outputs": [
        {
          "output_type": "error",
          "ename": "TypeError",
          "evalue": "ignored",
          "traceback": [
            "\u001b[0;31m---------------------------------------------------------------------------\u001b[0m",
            "\u001b[0;31mTypeError\u001b[0m                                 Traceback (most recent call last)",
            "\u001b[0;32m<ipython-input-8-b46cdad910a9>\u001b[0m in \u001b[0;36m<module>\u001b[0;34m()\u001b[0m\n\u001b[1;32m      1\u001b[0m \u001b[0;31m# creating a reverse catagory\u001b[0m\u001b[0;34m\u001b[0m\u001b[0;34m\u001b[0m\u001b[0;34m\u001b[0m\u001b[0m\n\u001b[0;32m----> 2\u001b[0;31m \u001b[0mcatagories\u001b[0m \u001b[0;34m=\u001b[0m \u001b[0mlist\u001b[0m\u001b[0;34m(\u001b[0m\u001b[0mset\u001b[0m\u001b[0;34m(\u001b[0m\u001b[0my_train\u001b[0m\u001b[0;34m)\u001b[0m\u001b[0;34m)\u001b[0m\u001b[0;34m\u001b[0m\u001b[0;34m\u001b[0m\u001b[0m\n\u001b[0m\u001b[1;32m      3\u001b[0m \u001b[0mprint\u001b[0m\u001b[0;34m(\u001b[0m\u001b[0mcatagories\u001b[0m\u001b[0;34m)\u001b[0m\u001b[0;34m\u001b[0m\u001b[0;34m\u001b[0m\u001b[0m\n\u001b[1;32m      4\u001b[0m \u001b[0mreverse_catagory\u001b[0m \u001b[0;34m=\u001b[0m \u001b[0;34m{\u001b[0m\u001b[0mi\u001b[0m\u001b[0;34m:\u001b[0m\u001b[0mn\u001b[0m \u001b[0;32mfor\u001b[0m \u001b[0mn\u001b[0m\u001b[0;34m,\u001b[0m\u001b[0mi\u001b[0m \u001b[0;32min\u001b[0m \u001b[0mcatagories\u001b[0m\u001b[0;34m.\u001b[0m\u001b[0mitems\u001b[0m\u001b[0;34m(\u001b[0m\u001b[0;34m)\u001b[0m\u001b[0;34m}\u001b[0m\u001b[0;34m\u001b[0m\u001b[0;34m\u001b[0m\u001b[0m\n\u001b[1;32m      5\u001b[0m \u001b[0mreverse_catagory\u001b[0m\u001b[0;34m[\u001b[0m\u001b[0;36m10\u001b[0m\u001b[0;34m]\u001b[0m \u001b[0;34m=\u001b[0m \u001b[0;34m\"other\"\u001b[0m\u001b[0;34m\u001b[0m\u001b[0;34m\u001b[0m\u001b[0m\n",
            "\u001b[0;31mTypeError\u001b[0m: unhashable type: 'numpy.ndarray'"
          ]
        }
      ]
    },
    {
      "cell_type": "code",
      "metadata": {
        "id": "7e3LpeRjHwVB",
        "colab_type": "code",
        "colab": {}
      },
      "source": [
        ""
      ],
      "execution_count": null,
      "outputs": []
    },
    {
      "cell_type": "code",
      "metadata": {
        "id": "8Sl_e_Y3MBCL",
        "colab_type": "code",
        "colab": {}
      },
      "source": [
        ""
      ],
      "execution_count": null,
      "outputs": []
    },
    {
      "cell_type": "code",
      "metadata": {
        "id": "ZFWMj7BbMBFJ",
        "colab_type": "code",
        "colab": {}
      },
      "source": [
        ""
      ],
      "execution_count": null,
      "outputs": []
    }
  ]
}