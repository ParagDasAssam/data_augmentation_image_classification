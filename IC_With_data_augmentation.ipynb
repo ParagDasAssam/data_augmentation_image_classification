{
 "cells": [
  {
   "cell_type": "code",
   "execution_count": 1,
   "metadata": {},
   "outputs": [],
   "source": [
    "import numpy as np\n",
    "import pandas as pd\n",
    "import matplotlib.pyplot as plt\n",
    "import cv2\n",
    "import math\n",
    "import os\n",
    "import tensorflow as tf\n",
    "from tensorflow.keras import optimizers\n",
    "from tensorflow.keras.models import Sequential\n",
    "from tensorflow.keras.layers import Dense, Dropout, Activation, Flatten, Conv2D, MaxPooling2D\n",
    "from tensorflow.keras.preprocessing.image import ImageDataGenerator"
   ]
  },
  {
   "cell_type": "code",
   "execution_count": 2,
   "metadata": {},
   "outputs": [
    {
     "data": {
      "text/html": [
       "<div>\n",
       "<style scoped>\n",
       "    .dataframe tbody tr th:only-of-type {\n",
       "        vertical-align: middle;\n",
       "    }\n",
       "\n",
       "    .dataframe tbody tr th {\n",
       "        vertical-align: top;\n",
       "    }\n",
       "\n",
       "    .dataframe thead th {\n",
       "        text-align: right;\n",
       "    }\n",
       "</style>\n",
       "<table border=\"1\" class=\"dataframe\">\n",
       "  <thead>\n",
       "    <tr style=\"text-align: right;\">\n",
       "      <th></th>\n",
       "      <th>id</th>\n",
       "      <th>label</th>\n",
       "    </tr>\n",
       "  </thead>\n",
       "  <tbody>\n",
       "    <tr>\n",
       "      <th>0</th>\n",
       "      <td>1.png</td>\n",
       "      <td>frog</td>\n",
       "    </tr>\n",
       "    <tr>\n",
       "      <th>1</th>\n",
       "      <td>2.png</td>\n",
       "      <td>truck</td>\n",
       "    </tr>\n",
       "    <tr>\n",
       "      <th>2</th>\n",
       "      <td>3.png</td>\n",
       "      <td>truck</td>\n",
       "    </tr>\n",
       "    <tr>\n",
       "      <th>3</th>\n",
       "      <td>4.png</td>\n",
       "      <td>deer</td>\n",
       "    </tr>\n",
       "    <tr>\n",
       "      <th>4</th>\n",
       "      <td>5.png</td>\n",
       "      <td>automobile</td>\n",
       "    </tr>\n",
       "  </tbody>\n",
       "</table>\n",
       "</div>"
      ],
      "text/plain": [
       "      id       label\n",
       "0  1.png        frog\n",
       "1  2.png       truck\n",
       "2  3.png       truck\n",
       "3  4.png        deer\n",
       "4  5.png  automobile"
      ]
     },
     "execution_count": 2,
     "metadata": {},
     "output_type": "execute_result"
    }
   ],
   "source": [
    "data_dir = \"C:\\\\Users\\\\M1050683\\\\Documents\\\\OpenVINO_training\\\\Neural_networks\\\\Image_classification\\\\Data_augmentation_ver2\\\\train\"\n",
    "train_labels = pd.read_csv(r\"C:\\Users\\M1050683\\Documents\\OpenVINO_training\\Neural_networks\\Image_classification\\trainLabels.csv\",dtype=str)\n",
    "\n",
    "id_new = []\n",
    "for i in train_labels[\"id\"]:\n",
    "    id_new.append(str(i)+\".png\")\n",
    "\n",
    "id_new = np.array(id_new)\n",
    "\n",
    "only_labels = np.array(train_labels[\"label\"])\n",
    "\n",
    "final_data = pd.DataFrame({\"id\":id_new,\"label\":only_labels})\n",
    "\n",
    "final_data.head()\n"
   ]
  },
  {
   "cell_type": "code",
   "execution_count": 3,
   "metadata": {},
   "outputs": [
    {
     "name": "stdout",
     "output_type": "stream",
     "text": [
      "Found 40000 validated image filenames belonging to 10 classes.\n",
      "Found 5000 validated image filenames belonging to 10 classes.\n",
      "Found 5000 validated image filenames.\n"
     ]
    }
   ],
   "source": [
    "catagorie = list(set(final_data[\"label\"]))\n",
    "datagen=ImageDataGenerator(rescale=1./255.)\n",
    "test_datagen=ImageDataGenerator(rescale=1./255.)\n",
    "\n",
    "\n",
    "train_generator=datagen.flow_from_dataframe(\n",
    "    dataframe=final_data[:40000],\n",
    "    directory=data_dir,\n",
    "    x_col=\"id\",\n",
    "    y_col=\"label\",\n",
    "    batch_size=80,\n",
    "    seed=42,\n",
    "    shuffle=True,\n",
    "    class_mode=\"categorical\",\n",
    "    classes=catagorie,\n",
    "    target_size=(32,32))\n",
    "\n",
    "valid_generator=test_datagen.flow_from_dataframe(\n",
    "    dataframe=final_data[40000:45000],\n",
    "    directory=data_dir,\n",
    "    x_col=\"id\",\n",
    "    y_col=\"label\",\n",
    "    batch_size=80,\n",
    "    seed=42,\n",
    "    shuffle=True,\n",
    "    class_mode=\"categorical\",\n",
    "    classes=catagorie,\n",
    "    target_size=(32,32))\n",
    "\n",
    "test_generator=test_datagen.flow_from_dataframe(\n",
    "    dataframe=final_data[45000:],\n",
    "    directory=data_dir,\n",
    "    x_col=\"id\",\n",
    "    batch_size=1,\n",
    "    seed=42,\n",
    "    shuffle=False,\n",
    "    class_mode=None,\n",
    "    target_size=(32,32))"
   ]
  },
  {
   "cell_type": "code",
   "execution_count": 4,
   "metadata": {},
   "outputs": [],
   "source": [
    "model = Sequential()\n",
    "\n",
    "model.add(Conv2D(64, (3, 3), padding='same', input_shape=(32,32,3)))\n",
    "model.add(Activation('relu'))\n",
    "model.add(MaxPooling2D(pool_size=(2, 2)))\n",
    "model.add(Dropout(0.25))\n",
    "\n",
    "# model.add(Conv2D(32, (3, 3)))\n",
    "# model.add(Activation('relu'))\n",
    "# model.add(MaxPooling2D(pool_size=(2, 2)))\n",
    "# model.add(Dropout(0.25))\n",
    "\n",
    "model.add(Conv2D(128, (3, 3), padding='same'))\n",
    "model.add(Activation('relu'))\n",
    "model.add(MaxPooling2D(pool_size=(2, 2)))\n",
    "model.add(Dropout(0.25))\n",
    "\n",
    "# model.add(Conv2D(64, (3, 3)))\n",
    "# model.add(Activation('relu'))\n",
    "# model.add(MaxPooling2D(pool_size=(2, 2)))\n",
    "# model.add(Dropout(0.25))\n",
    "\n",
    "\n",
    "model.add(Flatten())\n",
    "model.add(Dense(512))\n",
    "model.add(Activation('relu'))\n",
    "model.add(Dropout(0.25))\n",
    "\n",
    "model.add(Dense(10, activation='softmax'))\n",
    "model.compile(optimizers.RMSprop(lr=0.0001, decay=1e-6),loss=\"categorical_crossentropy\",metrics=[\"accuracy\"])"
   ]
  },
  {
   "cell_type": "code",
   "execution_count": 5,
   "metadata": {},
   "outputs": [
    {
     "name": "stdout",
     "output_type": "stream",
     "text": [
      "Model: \"sequential\"\n",
      "_________________________________________________________________\n",
      "Layer (type)                 Output Shape              Param #   \n",
      "=================================================================\n",
      "conv2d (Conv2D)              (None, 32, 32, 64)        1792      \n",
      "_________________________________________________________________\n",
      "activation (Activation)      (None, 32, 32, 64)        0         \n",
      "_________________________________________________________________\n",
      "max_pooling2d (MaxPooling2D) (None, 16, 16, 64)        0         \n",
      "_________________________________________________________________\n",
      "dropout (Dropout)            (None, 16, 16, 64)        0         \n",
      "_________________________________________________________________\n",
      "conv2d_1 (Conv2D)            (None, 16, 16, 128)       73856     \n",
      "_________________________________________________________________\n",
      "activation_1 (Activation)    (None, 16, 16, 128)       0         \n",
      "_________________________________________________________________\n",
      "max_pooling2d_1 (MaxPooling2 (None, 8, 8, 128)         0         \n",
      "_________________________________________________________________\n",
      "dropout_1 (Dropout)          (None, 8, 8, 128)         0         \n",
      "_________________________________________________________________\n",
      "flatten (Flatten)            (None, 8192)              0         \n",
      "_________________________________________________________________\n",
      "dense (Dense)                (None, 512)               4194816   \n",
      "_________________________________________________________________\n",
      "activation_2 (Activation)    (None, 512)               0         \n",
      "_________________________________________________________________\n",
      "dropout_2 (Dropout)          (None, 512)               0         \n",
      "_________________________________________________________________\n",
      "dense_1 (Dense)              (None, 10)                5130      \n",
      "=================================================================\n",
      "Total params: 4,275,594\n",
      "Trainable params: 4,275,594\n",
      "Non-trainable params: 0\n",
      "_________________________________________________________________\n"
     ]
    }
   ],
   "source": [
    "model.summary()"
   ]
  },
  {
   "cell_type": "code",
   "execution_count": 6,
   "metadata": {},
   "outputs": [
    {
     "name": "stdout",
     "output_type": "stream",
     "text": [
      "No. of dataset:  40000\n",
      "Batch size:  80\n",
      "500\n",
      "\n",
      "Shape of img: (32, 32, 3)\n",
      "Epoch 1/15\n",
      "500/500 [==============================] - 497s 994ms/step - loss: 1.8534 - accuracy: 0.3366 - val_loss: 1.6772 - val_accuracy: 0.4244\n",
      "Epoch 2/15\n",
      "500/500 [==============================] - 511s 1s/step - loss: 1.5457 - accuracy: 0.4489 - val_loss: 1.5765 - val_accuracy: 0.4520\n",
      "Epoch 3/15\n",
      "500/500 [==============================] - 502s 1s/step - loss: 1.3998 - accuracy: 0.4994 - val_loss: 1.3670 - val_accuracy: 0.5323\n",
      "Epoch 4/15\n",
      "500/500 [==============================] - 523s 1s/step - loss: 1.2998 - accuracy: 0.5378 - val_loss: 1.3094 - val_accuracy: 0.5470\n",
      "Epoch 5/15\n",
      "500/500 [==============================] - 550s 1s/step - loss: 1.2217 - accuracy: 0.5674 - val_loss: 1.1993 - val_accuracy: 0.5869\n",
      "Epoch 6/15\n",
      "500/500 [==============================] - 517s 1s/step - loss: 1.1663 - accuracy: 0.5899 - val_loss: 1.1611 - val_accuracy: 0.6056\n",
      "Epoch 7/15\n",
      "500/500 [==============================] - 510s 1s/step - loss: 1.1095 - accuracy: 0.6098 - val_loss: 1.1070 - val_accuracy: 0.6202\n",
      "Epoch 8/15\n",
      "500/500 [==============================] - 516s 1s/step - loss: 1.0681 - accuracy: 0.6253 - val_loss: 1.0657 - val_accuracy: 0.6367\n",
      "Epoch 9/15\n",
      "500/500 [==============================] - 544s 1s/step - loss: 1.0260 - accuracy: 0.6411 - val_loss: 1.0284 - val_accuracy: 0.6496\n",
      "Epoch 10/15\n",
      "500/500 [==============================] - 398s 797ms/step - loss: 0.9889 - accuracy: 0.6557 - val_loss: 1.0048 - val_accuracy: 0.6583\n",
      "Epoch 11/15\n",
      "500/500 [==============================] - 397s 793ms/step - loss: 0.9560 - accuracy: 0.6687 - val_loss: 0.9772 - val_accuracy: 0.6681\n",
      "Epoch 12/15\n",
      "500/500 [==============================] - 422s 844ms/step - loss: 0.9263 - accuracy: 0.6762 - val_loss: 0.9835 - val_accuracy: 0.6577\n",
      "Epoch 13/15\n",
      "500/500 [==============================] - 420s 840ms/step - loss: 0.8994 - accuracy: 0.6844 - val_loss: 0.9342 - val_accuracy: 0.6817\n",
      "Epoch 14/15\n",
      "500/500 [==============================] - 391s 781ms/step - loss: 0.8695 - accuracy: 0.6963 - val_loss: 0.9199 - val_accuracy: 0.6865\n",
      "Epoch 15/15\n",
      "500/500 [==============================] - 381s 762ms/step - loss: 0.8472 - accuracy: 0.7056 - val_loss: 0.9242 - val_accuracy: 0.6817\n"
     ]
    },
    {
     "data": {
      "text/plain": [
       "<tensorflow.python.keras.callbacks.History at 0x22a55e3d940>"
      ]
     },
     "execution_count": 6,
     "metadata": {},
     "output_type": "execute_result"
    }
   ],
   "source": [
    "# fit \n",
    "\n",
    "STEP_SIZE_TRAIN=train_generator.n//train_generator.batch_size\n",
    "print(\"No. of dataset: \",train_generator.n)\n",
    "print(\"Batch size: \",train_generator.batch_size)\n",
    "print(STEP_SIZE_TRAIN)\n",
    "STEP_SIZE_VALID=valid_generator.n//valid_generator.batch_size\n",
    "STEP_SIZE_TEST=test_generator.n//test_generator.batch_size\n",
    "\n",
    "print(\"\\nShape of img:\",train_generator.image_shape)\n",
    "\n",
    "model.fit_generator(generator=train_generator,\n",
    "                    steps_per_epoch=STEP_SIZE_TRAIN,\n",
    "                    validation_data=valid_generator,\n",
    "                    validation_steps=STEP_SIZE_VALID,\n",
    "                    epochs=15\n",
    ")"
   ]
  },
  {
   "cell_type": "code",
   "execution_count": 23,
   "metadata": {},
   "outputs": [
    {
     "name": "stdout",
     "output_type": "stream",
     "text": [
      "INFO:tensorflow:Assets written to: image_classification_augmentation.model\\assets\n"
     ]
    }
   ],
   "source": [
    "#Save the model\n",
    "model.save(\"image_classification_augmentation.model\")"
   ]
  },
  {
   "cell_type": "code",
   "execution_count": 7,
   "metadata": {},
   "outputs": [
    {
     "data": {
      "text/plain": [
       "[0.9279013316273689, 0.67996424]"
      ]
     },
     "execution_count": 7,
     "metadata": {},
     "output_type": "execute_result"
    }
   ],
   "source": [
    "# Evaluate\n",
    "model.evaluate_generator(generator=valid_generator,steps=STEP_SIZE_TEST)"
   ]
  },
  {
   "cell_type": "code",
   "execution_count": 8,
   "metadata": {},
   "outputs": [
    {
     "name": "stdout",
     "output_type": "stream",
     "text": [
      "5000/5000 [==============================] - 84s 17ms/step\n"
     ]
    }
   ],
   "source": [
    "# Predict the output\n",
    "test_generator.reset()\n",
    "pred=model.predict_generator(test_generator,steps=STEP_SIZE_TEST,verbose=1)"
   ]
  },
  {
   "cell_type": "code",
   "execution_count": 9,
   "metadata": {},
   "outputs": [
    {
     "name": "stdout",
     "output_type": "stream",
     "text": [
      "[[1.2869880e-05 7.9745405e-06 1.2557449e-04 ... 9.8688716e-01\n",
      "  5.8514013e-07 2.9880081e-05]\n",
      " [9.9062745e-04 9.5525050e-01 9.8656584e-04 ... 8.6568652e-05\n",
      "  4.1795266e-04 4.1256923e-02]\n",
      " [2.2564158e-03 1.4382422e-03 1.3115683e-01 ... 6.2502041e-02\n",
      "  1.4852079e-03 4.7334954e-03]\n",
      " ...\n",
      " [1.3708910e-01 4.9262602e-02 2.2671539e-03 ... 2.1193593e-03\n",
      "  5.7542812e-02 7.4252945e-01]\n",
      " [1.9067569e-02 9.2680341e-01 5.4934825e-04 ... 3.1326601e-04\n",
      "  3.0034514e-02 2.2173405e-02]\n",
      " [4.1504446e-01 1.7884819e-01 1.3670329e-02 ... 2.2262016e-02\n",
      "  2.5103468e-01 8.8763595e-02]]\n"
     ]
    }
   ],
   "source": [
    "print(pred)"
   ]
  },
  {
   "cell_type": "code",
   "execution_count": 10,
   "metadata": {},
   "outputs": [
    {
     "name": "stdout",
     "output_type": "stream",
     "text": [
      "{0: 'truck', 1: 'deer', 2: 'dog', 3: 'cat', 4: 'bird', 5: 'horse', 6: 'automobile', 7: 'frog', 8: 'airplane', 9: 'ship', 10: 'other'}\n"
     ]
    }
   ],
   "source": [
    "# creating a reverse catagory\n",
    "reverse_catagory = {i:catagorie[i] for i in range(len(catagorie))}\n",
    "reverse_catagory[10] = \"other\"\n",
    "print(reverse_catagory)"
   ]
  },
  {
   "cell_type": "code",
   "execution_count": 11,
   "metadata": {},
   "outputs": [],
   "source": [
    "predicted_class_indices=np.argmax(pred,axis=1)"
   ]
  },
  {
   "cell_type": "code",
   "execution_count": 12,
   "metadata": {},
   "outputs": [],
   "source": [
    "labels = (train_generator.class_indices)\n",
    "labels = dict((v,k) for k,v in labels.items())\n",
    "predictions = [labels[k] for k in predicted_class_indices]"
   ]
  },
  {
   "cell_type": "code",
   "execution_count": 13,
   "metadata": {},
   "outputs": [
    {
     "name": "stdout",
     "output_type": "stream",
     "text": [
      "45000         horse\n",
      "45001    automobile\n",
      "45002          deer\n",
      "45003    automobile\n",
      "45004      airplane\n",
      "            ...    \n",
      "49995          bird\n",
      "49996          frog\n",
      "49997         truck\n",
      "49998    automobile\n",
      "49999    automobile\n",
      "Name: label, Length: 5000, dtype: object\n"
     ]
    }
   ],
   "source": [
    "Actual = final_data[\"label\"][45000:]\n",
    "print(Actual)"
   ]
  },
  {
   "cell_type": "code",
   "execution_count": 14,
   "metadata": {},
   "outputs": [
    {
     "data": {
      "text/html": [
       "<div>\n",
       "<style scoped>\n",
       "    .dataframe tbody tr th:only-of-type {\n",
       "        vertical-align: middle;\n",
       "    }\n",
       "\n",
       "    .dataframe tbody tr th {\n",
       "        vertical-align: top;\n",
       "    }\n",
       "\n",
       "    .dataframe thead th {\n",
       "        text-align: right;\n",
       "    }\n",
       "</style>\n",
       "<table border=\"1\" class=\"dataframe\">\n",
       "  <thead>\n",
       "    <tr style=\"text-align: right;\">\n",
       "      <th></th>\n",
       "      <th>Filename</th>\n",
       "      <th>Actual</th>\n",
       "      <th>Predictions</th>\n",
       "    </tr>\n",
       "  </thead>\n",
       "  <tbody>\n",
       "    <tr>\n",
       "      <th>45000</th>\n",
       "      <td>45001.png</td>\n",
       "      <td>horse</td>\n",
       "      <td>horse</td>\n",
       "    </tr>\n",
       "    <tr>\n",
       "      <th>45001</th>\n",
       "      <td>45002.png</td>\n",
       "      <td>automobile</td>\n",
       "      <td>automobile</td>\n",
       "    </tr>\n",
       "    <tr>\n",
       "      <th>45002</th>\n",
       "      <td>45003.png</td>\n",
       "      <td>deer</td>\n",
       "      <td>deer</td>\n",
       "    </tr>\n",
       "    <tr>\n",
       "      <th>45003</th>\n",
       "      <td>45004.png</td>\n",
       "      <td>automobile</td>\n",
       "      <td>automobile</td>\n",
       "    </tr>\n",
       "    <tr>\n",
       "      <th>45004</th>\n",
       "      <td>45005.png</td>\n",
       "      <td>airplane</td>\n",
       "      <td>airplane</td>\n",
       "    </tr>\n",
       "    <tr>\n",
       "      <th>...</th>\n",
       "      <td>...</td>\n",
       "      <td>...</td>\n",
       "      <td>...</td>\n",
       "    </tr>\n",
       "    <tr>\n",
       "      <th>49995</th>\n",
       "      <td>49996.png</td>\n",
       "      <td>bird</td>\n",
       "      <td>ship</td>\n",
       "    </tr>\n",
       "    <tr>\n",
       "      <th>49996</th>\n",
       "      <td>49997.png</td>\n",
       "      <td>frog</td>\n",
       "      <td>cat</td>\n",
       "    </tr>\n",
       "    <tr>\n",
       "      <th>49997</th>\n",
       "      <td>49998.png</td>\n",
       "      <td>truck</td>\n",
       "      <td>truck</td>\n",
       "    </tr>\n",
       "    <tr>\n",
       "      <th>49998</th>\n",
       "      <td>49999.png</td>\n",
       "      <td>automobile</td>\n",
       "      <td>automobile</td>\n",
       "    </tr>\n",
       "    <tr>\n",
       "      <th>49999</th>\n",
       "      <td>50000.png</td>\n",
       "      <td>automobile</td>\n",
       "      <td>airplane</td>\n",
       "    </tr>\n",
       "  </tbody>\n",
       "</table>\n",
       "<p>5000 rows × 3 columns</p>\n",
       "</div>"
      ],
      "text/plain": [
       "        Filename      Actual Predictions\n",
       "45000  45001.png       horse       horse\n",
       "45001  45002.png  automobile  automobile\n",
       "45002  45003.png        deer        deer\n",
       "45003  45004.png  automobile  automobile\n",
       "45004  45005.png    airplane    airplane\n",
       "...          ...         ...         ...\n",
       "49995  49996.png        bird        ship\n",
       "49996  49997.png        frog         cat\n",
       "49997  49998.png       truck       truck\n",
       "49998  49999.png  automobile  automobile\n",
       "49999  50000.png  automobile    airplane\n",
       "\n",
       "[5000 rows x 3 columns]"
      ]
     },
     "execution_count": 14,
     "metadata": {},
     "output_type": "execute_result"
    }
   ],
   "source": [
    "filenames=test_generator.filenames\n",
    "results=pd.DataFrame({\"Filename\":filenames,\n",
    "                      \"Actual\":Actual,\n",
    "                     \"Predictions\":predictions,})\n",
    "results"
   ]
  },
  {
   "cell_type": "markdown",
   "metadata": {},
   "source": [
    "## Finally with the actual test dataset"
   ]
  },
  {
   "cell_type": "code",
   "execution_count": 15,
   "metadata": {},
   "outputs": [],
   "source": [
    "test_dir = \"C:\\\\Users\\\\M1050683\\\\Documents\\\\OpenVINO_training\\\\Neural_networks\\\\Image_classification\\\\Data_augmentation_ver2\\\\test\"\n",
    "test_data = pd.read_csv(r\"C:\\Users\\M1050683\\Documents\\OpenVINO_training\\Neural_networks\\Image_classification\\testLabels.csv\",dtype=str)\n"
   ]
  },
  {
   "cell_type": "code",
   "execution_count": 16,
   "metadata": {},
   "outputs": [
    {
     "data": {
      "text/html": [
       "<div>\n",
       "<style scoped>\n",
       "    .dataframe tbody tr th:only-of-type {\n",
       "        vertical-align: middle;\n",
       "    }\n",
       "\n",
       "    .dataframe tbody tr th {\n",
       "        vertical-align: top;\n",
       "    }\n",
       "\n",
       "    .dataframe thead th {\n",
       "        text-align: right;\n",
       "    }\n",
       "</style>\n",
       "<table border=\"1\" class=\"dataframe\">\n",
       "  <thead>\n",
       "    <tr style=\"text-align: right;\">\n",
       "      <th></th>\n",
       "      <th>id</th>\n",
       "    </tr>\n",
       "  </thead>\n",
       "  <tbody>\n",
       "    <tr>\n",
       "      <th>0</th>\n",
       "      <td>1.jpg</td>\n",
       "    </tr>\n",
       "    <tr>\n",
       "      <th>1</th>\n",
       "      <td>2.jpg</td>\n",
       "    </tr>\n",
       "    <tr>\n",
       "      <th>2</th>\n",
       "      <td>3.jpg</td>\n",
       "    </tr>\n",
       "    <tr>\n",
       "      <th>3</th>\n",
       "      <td>4.jpg</td>\n",
       "    </tr>\n",
       "    <tr>\n",
       "      <th>4</th>\n",
       "      <td>5.jpg</td>\n",
       "    </tr>\n",
       "  </tbody>\n",
       "</table>\n",
       "</div>"
      ],
      "text/plain": [
       "      id\n",
       "0  1.jpg\n",
       "1  2.jpg\n",
       "2  3.jpg\n",
       "3  4.jpg\n",
       "4  5.jpg"
      ]
     },
     "execution_count": 16,
     "metadata": {},
     "output_type": "execute_result"
    }
   ],
   "source": [
    "id_new = []\n",
    "for i in test_data[\"id\"]:\n",
    "    id_new.append(str(i)+\".jpg\")\n",
    "\n",
    "id_new = np.array(id_new)\n",
    "\n",
    "# only_labels = np.array([])\n",
    "\n",
    "test_data = pd.DataFrame({\"id\":id_new})\n",
    "\n",
    "test_data.head()"
   ]
  },
  {
   "cell_type": "code",
   "execution_count": 17,
   "metadata": {},
   "outputs": [
    {
     "name": "stdout",
     "output_type": "stream",
     "text": [
      "Found 1365 validated image filenames.\n"
     ]
    }
   ],
   "source": [
    "final_test_datagen=ImageDataGenerator(rescale=1./255.)\n",
    "\n",
    "final_test_generator=final_test_datagen.flow_from_dataframe(\n",
    "    dataframe=test_data,\n",
    "    directory=test_dir,\n",
    "    x_col=\"id\",\n",
    "    batch_size=1,\n",
    "    seed=42,\n",
    "    shuffle=False,\n",
    "    class_mode=None,\n",
    "    target_size=(32,32))"
   ]
  },
  {
   "cell_type": "code",
   "execution_count": 18,
   "metadata": {},
   "outputs": [
    {
     "name": "stdout",
     "output_type": "stream",
     "text": [
      "1365/1365 [==============================] - 23s 17ms/step\n"
     ]
    }
   ],
   "source": [
    "STEP_SIZE_TEST=final_test_generator.n//final_test_generator.batch_size\n",
    "\n",
    "final_test_generator.reset()\n",
    "pred=model.predict_generator(final_test_generator,steps=STEP_SIZE_TEST,verbose=1)"
   ]
  },
  {
   "cell_type": "code",
   "execution_count": 19,
   "metadata": {},
   "outputs": [],
   "source": [
    "# predicted_class_indices_test =np.argmax(pred,axis=1)\n",
    "output = []\n",
    "\n",
    "def location(arr):\n",
    "    max_ele = 0\n",
    "    location = 0\n",
    "    for i in range(len(arr)):\n",
    "        if arr[i] > max_ele:\n",
    "            max_ele = arr[i]\n",
    "            location = i\n",
    "    if max_ele < 0.5:\n",
    "        return 10\n",
    "    return location\n",
    "\n",
    "\n",
    "for img in pred:\n",
    "    type_img = location(img)\n",
    "    output.append(reverse_catagory[type_img])"
   ]
  },
  {
   "cell_type": "code",
   "execution_count": 20,
   "metadata": {},
   "outputs": [
    {
     "data": {
      "text/plain": [
       "['other',\n",
       " 'other',\n",
       " 'other',\n",
       " 'other',\n",
       " 'airplane',\n",
       " 'ship',\n",
       " 'other',\n",
       " 'bird',\n",
       " 'other',\n",
       " 'other']"
      ]
     },
     "execution_count": 20,
     "metadata": {},
     "output_type": "execute_result"
    }
   ],
   "source": [
    "output[:10]"
   ]
  },
  {
   "cell_type": "code",
   "execution_count": 21,
   "metadata": {},
   "outputs": [
    {
     "data": {
      "text/html": [
       "<div>\n",
       "<style scoped>\n",
       "    .dataframe tbody tr th:only-of-type {\n",
       "        vertical-align: middle;\n",
       "    }\n",
       "\n",
       "    .dataframe tbody tr th {\n",
       "        vertical-align: top;\n",
       "    }\n",
       "\n",
       "    .dataframe thead th {\n",
       "        text-align: right;\n",
       "    }\n",
       "</style>\n",
       "<table border=\"1\" class=\"dataframe\">\n",
       "  <thead>\n",
       "    <tr style=\"text-align: right;\">\n",
       "      <th></th>\n",
       "      <th>Filename</th>\n",
       "      <th>Predictions</th>\n",
       "    </tr>\n",
       "  </thead>\n",
       "  <tbody>\n",
       "    <tr>\n",
       "      <th>0</th>\n",
       "      <td>1.jpg</td>\n",
       "      <td>other</td>\n",
       "    </tr>\n",
       "    <tr>\n",
       "      <th>1</th>\n",
       "      <td>2.jpg</td>\n",
       "      <td>other</td>\n",
       "    </tr>\n",
       "    <tr>\n",
       "      <th>2</th>\n",
       "      <td>3.jpg</td>\n",
       "      <td>other</td>\n",
       "    </tr>\n",
       "    <tr>\n",
       "      <th>3</th>\n",
       "      <td>4.jpg</td>\n",
       "      <td>other</td>\n",
       "    </tr>\n",
       "    <tr>\n",
       "      <th>4</th>\n",
       "      <td>5.jpg</td>\n",
       "      <td>airplane</td>\n",
       "    </tr>\n",
       "    <tr>\n",
       "      <th>...</th>\n",
       "      <td>...</td>\n",
       "      <td>...</td>\n",
       "    </tr>\n",
       "    <tr>\n",
       "      <th>1360</th>\n",
       "      <td>1361.jpg</td>\n",
       "      <td>automobile</td>\n",
       "    </tr>\n",
       "    <tr>\n",
       "      <th>1361</th>\n",
       "      <td>1362.jpg</td>\n",
       "      <td>truck</td>\n",
       "    </tr>\n",
       "    <tr>\n",
       "      <th>1362</th>\n",
       "      <td>1363.jpg</td>\n",
       "      <td>other</td>\n",
       "    </tr>\n",
       "    <tr>\n",
       "      <th>1363</th>\n",
       "      <td>1364.jpg</td>\n",
       "      <td>other</td>\n",
       "    </tr>\n",
       "    <tr>\n",
       "      <th>1364</th>\n",
       "      <td>1365.jpg</td>\n",
       "      <td>ship</td>\n",
       "    </tr>\n",
       "  </tbody>\n",
       "</table>\n",
       "<p>1365 rows × 2 columns</p>\n",
       "</div>"
      ],
      "text/plain": [
       "      Filename Predictions\n",
       "0        1.jpg       other\n",
       "1        2.jpg       other\n",
       "2        3.jpg       other\n",
       "3        4.jpg       other\n",
       "4        5.jpg    airplane\n",
       "...        ...         ...\n",
       "1360  1361.jpg  automobile\n",
       "1361  1362.jpg       truck\n",
       "1362  1363.jpg       other\n",
       "1363  1364.jpg       other\n",
       "1364  1365.jpg        ship\n",
       "\n",
       "[1365 rows x 2 columns]"
      ]
     },
     "execution_count": 21,
     "metadata": {},
     "output_type": "execute_result"
    }
   ],
   "source": [
    "filenames=final_test_generator.filenames\n",
    "results=pd.DataFrame({\"Filename\":filenames,\n",
    "                     \"Predictions\":output})\n",
    "results"
   ]
  },
  {
   "cell_type": "code",
   "execution_count": null,
   "metadata": {},
   "outputs": [],
   "source": []
  }
 ],
 "metadata": {
  "kernelspec": {
   "display_name": "Python 3",
   "language": "python",
   "name": "python3"
  },
  "language_info": {
   "codemirror_mode": {
    "name": "ipython",
    "version": 3
   },
   "file_extension": ".py",
   "mimetype": "text/x-python",
   "name": "python",
   "nbconvert_exporter": "python",
   "pygments_lexer": "ipython3",
   "version": "3.6.1"
  }
 },
 "nbformat": 4,
 "nbformat_minor": 4
}
