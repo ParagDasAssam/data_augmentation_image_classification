{
 "cells": [
  {
   "cell_type": "code",
   "execution_count": 10,
   "metadata": {},
   "outputs": [],
   "source": [
    "import numpy as np\n",
    "import pandas as pd\n",{
 "cells": [
  {
   "cell_type": "code",
   "execution_count": 10,
   "metadata": {},
   "outputs": [],
   "source": [
    "import numpy as np\n",
    "import pandas as pd\n",
    "import matplotlib.pyplot as plt\n",
    "import cv2\n",
    "import math\n",
    "import os\n",
    "import tensorflow as tf\n",
    "from tensorflow.keras import optimizers\n",{
 "cells": [
  {
   "cell_type": "code",
   "execution_count": 10,
   "metadata": {},
   "outputs": [],
   "source": [
    "import numpy as np\n",
    "import pandas as pd\n",
    "import matplotlib.pyplot as plt\n",
    "import cv2\n",
    "import math\n",
    "import os\n",
    "import tensorflow as tf\n",
    "from tensorflow.keras import optimizers\n",
    "from tensorflow.keras.models import Sequential\n",
    "from tensorflow.keras.layers import Dense, Dropout, Activation, Flatten, Conv2D, MaxPooling2D"
   ]
  },
  {
   "cell_type": "code",
   "execution_count": 2,
   "metadata": {},
   "outputs": [
    {
     "data": {
      "text/plain": [
       "Index(['id', 'label'], dtype='object')"
      ]
     },
     "execution_count": 2,
     "metadata": {},
     "output_type": "execute_result"
    }
   ],
   "source": [
    "# loading the data\n",
    "train_dir = \"Image_classification\\\\train\\\\\"\n",
    "train_labels = pd.read_csv(r\"trainLabels.csv\")\n",
    "\n",
    "validate_dir = 'validate\\\\'\n",
    "validate_labels = pd.read_csv(r\"validateLabels.csv\")\n",
    "\n",
    "test_dir = \".Image_classification\\\\test\\\\\"\n",
    "test_labels = pd.read_csv(r\".testLabels.csv\")\n",
    "\n",
    "train_labels.columns"
   ]
  },
  {
   "cell_type": "code",
   "execution_count": 3,
   "metadata": {},
   "outputs": [
    {
     "data": {
      "text/plain": [
       "{'truck': 0,\n",
       " 'bird': 1,\n",
       " 'automobile': 2,\n",
       " 'cat': 3,\n",
       " 'dog': 4,\n",
       " 'ship': 5,\n",
       " 'horse': 6,\n",
       " 'frog': 7,\n",
       " 'airplane': 8,\n",
       " 'deer': 9}"
      ]
     },
     "execution_count": 3,
     "metadata": {},
     "output_type": "execute_result"
    }
   ],
   "source": [
    "# creating a label and a key dict\n",
    "catagory_list = list(set(train_labels[\"label\"]))\n",
    "catagories = {}\n",
    "for i in range(len(catagory_list)):\n",
    "    catagories[catagory_list[i]] = i\n",
    "catagories"
   ]
  },
  {
   "cell_type": "code",
   "execution_count": 12,
   "metadata": {},
   "outputs": [
    {
     "data": {
      "image/png": "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\n",
      "text/plain": [
       "<Figure size 432x288 with 1 Axes>"
      ]
     },
     "metadata": {
      "needs_background": "light"
     },
     "output_type": "display_data"
    }
   ],
   "source": [
    "# reading the data\n",
    "IMG_SIZE = 32\n",
    "training_data = []\n",
    "testing_data = []\n",
    "validating_data = []\n",
    "\n",
    "def create_training_data():\n",
    "    i = 0\n",
    "    for img_name in range(1,40001):   #len(train_labels[\"id\"])+1\n",
    "        try:\n",
    "#             print(\"hi\")\n",
    "#             print(train_dir+str(img_name)+\".png\")\n",
    "            img_array = cv2.imread((train_dir+str(img_name)+\".png\"))\n",
    "            new_array = cv2.resize(img_array,(IMG_SIZE,IMG_SIZE),3)\n",
    "            if img_name == 40000:\n",
    "                plt.imshow(new_array)\n",
    "                plt.show()\n",
    "            training_data.append([new_array,catagories[train_labels.iloc[img_name-1,1]]])\n",
    "#             print(\"yo\")\n",
    "#             i += 1\n",
    "#             if i == 2:\n",
    "#                 break\n",
    "        except Exception as e:\n",
    "            print(\"i: \",i)\n",
    "            print(\"Exception: \",e)\n",
    "            break\n",
    "\n",
    "def create_validating_data():\n",
    "    for img_name in range(1,len(validate_labels[\"id\"])+1):\n",
    "        try:\n",
    "            img_array = cv2.imread((validate_dir+str(img_name)+\".png\"))\n",
    "            new_array = cv2.resize(img_array,(IMG_SIZE,IMG_SIZE),3)\n",
    "            validating_data.append([new_array,catagories[validate_labels.iloc[img_name-1,1]]])\n",
    "        except Exception as e:\n",
    "            print(\"Exception: \",e)\n",
    "            break\n",
    "            \n",
    "def create_testing_data():\n",
    "    for img_name in range(1,len(test_labels[\"id\"])+1):\n",
    "        try:\n",
    "            path = test_dir + str(img_name) + \".jpg\"\n",
    "            img_array = cv2.imread(path)\n",
    "            new_array = cv2.resize(img_array,(IMG_SIZE,IMG_SIZE),3)\n",
    "            testing_data.append(new_array)\n",
    "        except Exception as e:\n",
    "                print(\"Exception: \",e)\n",
    "                break\n",
    "\n",
    "create_training_data()\n",
    "create_validating_data()\n",
    "create_testing_data()\n"
   ]
  },
  {
   "cell_type": "code",
   "execution_count": 13,
   "metadata": {},
   "outputs": [
    {
     "name": "stdout",
     "output_type": "stream",
     "text": [
      "length: train: 40000  validate: 10000  test: 1365\n"
     ]
    }
   ],
   "source": [
    "print(\"length: train:\",len(training_data),\" validate:\",len(validating_data), \" test:\",len(testing_data))"
   ]
  },
  {
   "cell_type": "code",
   "execution_count": 18,
   "metadata": {},
   "outputs": [],
   "source": [
    "# now to create train data\n",
    "X_train,y_train = [],[]\n",
    "X_validate,y_validate = [],[]\n",
    "X_test,y_test = [],[]\n",
    "\n",
    "for features, label in training_data:\n",
    "    X_train.append(features)\n",
    "    y_train.append(label)\n",
    "    \n",
    "for features, label in validating_data:\n",
    "    X_validate.append(features)\n",
    "    y_validate.append(label)\n",
    "    \n",
    "X_test = testing_data\n",
    "y_test = []  # to be predicted"
   ]
  },
  {
   "cell_type": "code",
   "execution_count": 19,
   "metadata": {},
   "outputs": [],
   "source": [
    "def normalize_convert(X,y):\n",
    "    # normalize the data. As the data is image we normalize it with 255\n",
    "    X = [i/255.0 for i in X]\n",
    "    # convert data into an numpy array\n",
    "    X = np.array(X)\n",
    "#     X = np.expand_dims(X, -1)\n",
    "    y = np.array(y)\n",
    "    return X,y\n",
    "\n",
    "X_train, y_train = normalize_convert(X_train,y_train)\n",
    "X_validate, y_validate = normalize_convert(X_validate,y_validate)\n",
    "X_test,y_test = normalize_convert(X_test,y_test)"
   ]
  },
  {
   "cell_type": "code",
   "execution_count": 20,
   "metadata": {
    "scrolled": true
   },
   "outputs": [
    {
     "name": "stdout",
     "output_type": "stream",
     "text": [
      "[[[0.24705882 0.24313725 0.23137255]\n",
      "  [0.17647059 0.18039216 0.16862745]\n",
      "  [0.16862745 0.18823529 0.19607843]\n",
      "  ...\n",
      "  [0.42352941 0.51764706 0.61960784]\n",
      "  [0.4        0.49019608 0.59607843]\n",
      "  [0.40392157 0.48627451 0.58039216]]\n",
      "\n",
      " [[0.07843137 0.07843137 0.0627451 ]\n",
      "  [0.         0.         0.        ]\n",
      "  [0.         0.03137255 0.07058824]\n",
      "  ...\n",
      "  [0.21568627 0.34509804 0.48235294]\n",
      "  [0.19607843 0.3254902  0.46666667]\n",
      "  [0.22352941 0.34117647 0.47843137]]\n",
      "\n",
      " [[0.08235294 0.09411765 0.09803922]\n",
      "  [0.         0.02745098 0.0627451 ]\n",
      "  [0.03137255 0.10588235 0.19215686]\n",
      "  ...\n",
      "  [0.19607843 0.32941176 0.4627451 ]\n",
      "  [0.19607843 0.32941176 0.47058824]\n",
      "  [0.16470588 0.28627451 0.42745098]]\n",
      "\n",
      " ...\n",
      "\n",
      " [[0.37647059 0.66666667 0.81568627]\n",
      "  [0.13333333 0.6        0.78823529]\n",
      "  [0.10196078 0.63137255 0.77647059]\n",
      "  ...\n",
      "  [0.2745098  0.52156863 0.62745098]\n",
      "  [0.02745098 0.12156863 0.21960784]\n",
      "  [0.07843137 0.13333333 0.20784314]]\n",
      "\n",
      " [[0.37647059 0.54509804 0.70588235]\n",
      "  [0.16470588 0.48235294 0.67843137]\n",
      "  [0.11764706 0.56470588 0.72941176]\n",
      "  ...\n",
      "  [0.36862745 0.58039216 0.72156863]\n",
      "  [0.13333333 0.24313725 0.38039216]\n",
      "  [0.13333333 0.20784314 0.3254902 ]]\n",
      "\n",
      " [[0.45490196 0.56470588 0.69411765]\n",
      "  [0.36862745 0.50588235 0.65882353]\n",
      "  [0.34117647 0.55686275 0.70196078]\n",
      "  ...\n",
      "  [0.54901961 0.72156863 0.84705882]\n",
      "  [0.32941176 0.4627451  0.59215686]\n",
      "  [0.28235294 0.36078431 0.48235294]]] 7\n"
     ]
    }
   ],
   "source": [
    "print(X_train[0],y_train[0])"
   ]
  },
  {
   "cell_type": "code",
   "execution_count": 23,
   "metadata": {},
   "outputs": [
    {
     "name": "stdout",
     "output_type": "stream",
     "text": [
      "Train on 36000 samples, validate on 4000 samples\n",
      "Epoch 1/15\n",
      "36000/36000 [==============================] - 310s 9ms/sample - loss: 1.8494 - accuracy: 0.3336 - val_loss: 1.6470 - val_accuracy: 0.4442\n",
      "Epoch 2/15\n",
      "36000/36000 [==============================] - 275s 8ms/sample - loss: 1.5371 - accuracy: 0.4519 - val_loss: 1.4660 - val_accuracy: 0.4880\n",
      "Epoch 3/15\n",
      "36000/36000 [==============================] - 283s 8ms/sample - loss: 1.3851 - accuracy: 0.5054 - val_loss: 1.3301 - val_accuracy: 0.5368\n",
      "Epoch 4/15\n",
      "36000/36000 [==============================] - 277s 8ms/sample - loss: 1.2803 - accuracy: 0.5448 - val_loss: 1.2465 - val_accuracy: 0.5680\n",
      "Epoch 5/15\n",
      "36000/36000 [==============================] - 274s 8ms/sample - loss: 1.1981 - accuracy: 0.5771 - val_loss: 1.2117 - val_accuracy: 0.5775\n",
      "Epoch 6/15\n",
      "36000/36000 [==============================] - 290s 8ms/sample - loss: 1.1339 - accuracy: 0.6003 - val_loss: 1.1166 - val_accuracy: 0.6108\n",
      "Epoch 7/15\n",
      "36000/36000 [==============================] - 305s 8ms/sample - loss: 1.0820 - accuracy: 0.6192 - val_loss: 1.0661 - val_accuracy: 0.6323\n",
      "Epoch 8/15\n",
      "36000/36000 [==============================] - 323s 9ms/sample - loss: 1.0373 - accuracy: 0.6356 - val_loss: 1.0298 - val_accuracy: 0.6385\n",
      "Epoch 9/15\n",
      "36000/36000 [==============================] - 318s 9ms/sample - loss: 0.9965 - accuracy: 0.6503 - val_loss: 1.0014 - val_accuracy: 0.6445\n",
      "Epoch 10/15\n",
      "36000/36000 [==============================] - 286s 8ms/sample - loss: 0.9584 - accuracy: 0.6652 - val_loss: 0.9638 - val_accuracy: 0.6672\n",
      "Epoch 11/15\n",
      "36000/36000 [==============================] - 281s 8ms/sample - loss: 0.9276 - accuracy: 0.6784 - val_loss: 0.9593 - val_accuracy: 0.6572\n",
      "Epoch 12/15\n",
      "36000/36000 [==============================] - 283s 8ms/sample - loss: 0.8961 - accuracy: 0.6872 - val_loss: 0.9208 - val_accuracy: 0.6795\n",
      "Epoch 13/15\n",
      "36000/36000 [==============================] - 284s 8ms/sample - loss: 0.8676 - accuracy: 0.6991 - val_loss: 0.9124 - val_accuracy: 0.6845\n",
      "Epoch 14/15\n",
      "36000/36000 [==============================] - 288s 8ms/sample - loss: 0.8428 - accuracy: 0.7069 - val_loss: 0.9131 - val_accuracy: 0.6752\n",
      "Epoch 15/15\n",
      "36000/36000 [==============================] - 348s 10ms/sample - loss: 0.8156 - accuracy: 0.7178 - val_loss: 0.8735 - val_accuracy: 0.6950\n"
     ]
    },
    {
     "data": {
      "text/plain": [
       "<tensorflow.python.keras.callbacks.History at 0x224ba1e4630>"
      ]
     },
     "execution_count": 23,
     "metadata": {},
     "output_type": "execute_result"
    }
   ],
   "source": [
    "model = Sequential()\n",
    "\n",
    "model.add(Conv2D(64, (3, 3), padding='same', input_shape=(32,32,3)))\n",
    "model.add(Activation('relu'))\n",
    "model.add(MaxPooling2D(pool_size=(2, 2)))\n",
    "model.add(Dropout(0.25))\n",
    "\n",
    "# model.add(Conv2D(32, (3, 3)))\n",
    "# model.add(Activation('relu'))\n",
    "# model.add(MaxPooling2D(pool_size=(2, 2)))\n",
    "# model.add(Dropout(0.25))\n",
    "\n",
    "model.add(Conv2D(128, (3, 3), padding='same'))\n",
    "model.add(Activation('relu'))\n",
    "model.add(MaxPooling2D(pool_size=(2, 2)))\n",
    "model.add(Dropout(0.25))\n",
    "\n",
    "# model.add(Conv2D(64, (3, 3)))\n",
    "# model.add(Activation('relu'))\n",
    "# model.add(MaxPooling2D(pool_size=(2, 2)))\n",
    "# model.add(Dropout(0.25))\n",
    "\n",
    "\n",
    "model.add(Flatten())\n",
    "model.add(Dense(512))\n",
    "model.add(Activation('relu'))\n",
    "model.add(Dropout(0.25))\n",
    "\n",
    "model.add(Dense(10, activation='softmax'))\n",
    "model.compile(optimizers.RMSprop(lr=0.0001, decay=1e-6),loss=\"sparse_categorical_crossentropy\",metrics=[\"accuracy\"])\n",
    "\n",
    "model.fit(X_train, y_train, batch_size=60, epochs=15,validation_split=0.1)"
   ]
  },
  {
   "cell_type": "code",
   "execution_count": 34,
   "metadata": {},
   "outputs": [
    {
     "name": "stdout",
     "output_type": "stream",
     "text": [
      "WARNING:tensorflow: calling BaseResourceVariable.__init__ (from tensorflow.python.ops.resource_variable_ops) with constraint is deprecated and will be removed in a future version.\n",
      "Instructions for updating:\n",
      "If using Keras pass *_constraint arguments to layers.\n",
      "INFO:tensorflow:Assets written to: image_classification_ver2.model\\assets\n"
     ]
    }
   ],
   "source": [
    "#Save the model\n",
    "model.save(\"image_classification_ver2.model\")"
   ]
  },
  {
   "cell_type": "markdown",
   "metadata": {},
   "source": [
    "## Validating the model with valitation dataset"
   ]
  },
  {
   "cell_type": "code",
   "execution_count": 24,
   "metadata": {},
   "outputs": [
    {
     "name": "stdout",
     "output_type": "stream",
     "text": [
      "Test loss: 0.8592485727310181\n",
      "Test accuracy: 0.7093\n"
     ]
    }
   ],
   "source": [
    "test_eval = model.evaluate(X_validate, y_validate, verbose=0)\n",
    "print('Test loss:', test_eval[0])\n",
    "print('Test accuracy:', test_eval[1])"
   ]
  },
  {
   "cell_type": "code",
   "execution_count": 25,
   "metadata": {},
   "outputs": [
    {
     "name": "stdout",
     "output_type": "stream",
     "text": [
      "{0: 'truck', 1: 'bird', 2: 'automobile', 3: 'cat', 4: 'dog', 5: 'ship', 6: 'horse', 7: 'frog', 8: 'airplane', 9: 'deer', 10: 'other'}\n"
     ]
    }
   ],
   "source": [
    "# creating a reverse catagory\n",
    "reverse_catagory = {i:n for n,i in catagories.items()}\n",
    "reverse_catagory[10] = \"other\"\n",
    "print(reverse_catagory)"
   ]
  },
  {
   "cell_type": "code",
   "execution_count": 26,
   "metadata": {},
   "outputs": [],
   "source": [
    "predict = model.predict(X_validate)"
   ]
  },
  {
   "cell_type": "code",
   "execution_count": 27,
   "metadata": {},
   "outputs": [
    {
     "name": "stdout",
     "output_type": "stream",
     "text": [
      "[5.30784689e-02 1.27006392e-03 9.14946795e-01 1.39115655e-05\n",
      " 5.45306057e-06 1.71113305e-03 2.37612730e-05 1.05482150e-05\n",
      " 2.81788912e-02 7.60867726e-04]\n",
      "Mx:  0.9149468\n",
      "2\n",
      "Mx:  0.9149468\n",
      "automobile\n"
     ]
    }
   ],
   "source": [
    "def location(arr):\n",
    "    max_ele = 0\n",
    "    location = 0\n",
    "    for i in range(len(arr)):\n",
    "        if arr[i] > max_ele:\n",
    "            max_ele = arr[i]\n",
    "            location = i\n",
    "    print(\"Mx: \",max_ele)\n",
    "    if max_ele < 0.5:\n",
    "        return 10\n",
    "    return location\n",
    "\n",
    "print(predict[0])\n",
    "print(location(predict[0]))\n",
    "print(reverse_catagory[location(predict[0])])"
   ]
  },
  {
   "cell_type": "code",
   "execution_count": 28,
   "metadata": {},
   "outputs": [],
   "source": [
    "output = []\n",
    "\n",
    "def location(arr):\n",
    "    max_ele = 0\n",
    "    location = 0\n",
    "    for i in range(len(arr)):\n",
    "        if arr[i] > max_ele:\n",
    "            max_ele = arr[i]\n",
    "            location = i\n",
    "    if max_ele < 0.5:\n",
    "        return 10\n",
    "    return location\n",
    "\n",
    "\n",
    "for img in predict:\n",
    "    type_img = location(img)\n",
    "    output.append(reverse_catagory[type_img])"
   ]
  },
  {
   "cell_type": "code",
   "execution_count": 29,
   "metadata": {},
   "outputs": [
    {
     "data": {
      "text/html": [
       "<div>\n",
       "<style scoped>\n",
       "    .dataframe tbody tr th:only-of-type {\n",
       "        vertical-align: middle;\n",
       "    }\n",
       "\n",
       "    .dataframe tbody tr th {\n",
       "        vertical-align: top;\n",
       "    }\n",
       "\n",
       "    .dataframe thead th {\n",
       "        text-align: right;\n",
       "    }\n",
       "</style>\n",
       "<table border=\"1\" class=\"dataframe\">\n",
       "  <thead>\n",
       "    <tr style=\"text-align: right;\">\n",
       "      <th></th>\n",
       "      <th>Id</th>\n",
       "      <th>Actual</th>\n",
       "      <th>Predict</th>\n",
       "    </tr>\n",
       "  </thead>\n",
       "  <tbody>\n",
       "    <tr>\n",
       "      <th>0</th>\n",
       "      <td>1</td>\n",
       "      <td>automobile</td>\n",
       "      <td>automobile</td>\n",
       "    </tr>\n",
       "    <tr>\n",
       "      <th>1</th>\n",
       "      <td>2</td>\n",
       "      <td>ship</td>\n",
       "      <td>ship</td>\n",
       "    </tr>\n",
       "    <tr>\n",
       "      <th>2</th>\n",
       "      <td>3</td>\n",
       "      <td>dog</td>\n",
       "      <td>dog</td>\n",
       "    </tr>\n",
       "    <tr>\n",
       "      <th>3</th>\n",
       "      <td>4</td>\n",
       "      <td>automobile</td>\n",
       "      <td>automobile</td>\n",
       "    </tr>\n",
       "    <tr>\n",
       "      <th>4</th>\n",
       "      <td>5</td>\n",
       "      <td>dog</td>\n",
       "      <td>other</td>\n",
       "    </tr>\n",
       "    <tr>\n",
       "      <th>5</th>\n",
       "      <td>6</td>\n",
       "      <td>horse</td>\n",
       "      <td>horse</td>\n",
       "    </tr>\n",
       "    <tr>\n",
       "      <th>6</th>\n",
       "      <td>7</td>\n",
       "      <td>deer</td>\n",
       "      <td>other</td>\n",
       "    </tr>\n",
       "    <tr>\n",
       "      <th>7</th>\n",
       "      <td>8</td>\n",
       "      <td>cat</td>\n",
       "      <td>cat</td>\n",
       "    </tr>\n",
       "    <tr>\n",
       "      <th>8</th>\n",
       "      <td>9</td>\n",
       "      <td>ship</td>\n",
       "      <td>ship</td>\n",
       "    </tr>\n",
       "    <tr>\n",
       "      <th>9</th>\n",
       "      <td>10</td>\n",
       "      <td>bird</td>\n",
       "      <td>other</td>\n",
       "    </tr>\n",
       "  </tbody>\n",
       "</table>\n",
       "</div>"
      ],
      "text/plain": [
       "   Id      Actual     Predict\n",
       "0   1  automobile  automobile\n",
       "1   2        ship        ship\n",
       "2   3         dog         dog\n",
       "3   4  automobile  automobile\n",
       "4   5         dog       other\n",
       "5   6       horse       horse\n",
       "6   7        deer       other\n",
       "7   8         cat         cat\n",
       "8   9        ship        ship\n",
       "9  10        bird       other"
      ]
     },
     "execution_count": 29,
     "metadata": {},
     "output_type": "execute_result"
    }
   ],
   "source": [
    "check_label = pd.DataFrame({\"Id\":validate_labels[\"id\"],\"Actual\":validate_labels[\"label\"],\"Predict\":output})\n",
    "check_label[:10]"
   ]
  },
  {
   "cell_type": "code",
   "execution_count": 30,
   "metadata": {},
   "outputs": [],
   "source": [
    "Other_values = check_label.loc[check_label[\"Predict\"]==\"other\"]"
   ]
  },
  {
   "cell_type": "code",
   "execution_count": 31,
   "metadata": {},
   "outputs": [
    {
     "data": {
      "text/html": [
       "<div>\n",
       "<style scoped>\n",
       "    .dataframe tbody tr th:only-of-type {\n",
       "        vertical-align: middle;\n",
       "    }\n",
       "\n",
       "    .dataframe tbody tr th {\n",
       "        vertical-align: top;\n",
       "    }\n",
       "\n",
       "    .dataframe thead th {\n",
       "        text-align: right;\n",
       "    }\n",
       "</style>\n",
       "<table border=\"1\" class=\"dataframe\">\n",
       "  <thead>\n",
       "    <tr style=\"text-align: right;\">\n",
       "      <th></th>\n",
       "      <th>Id</th>\n",
       "      <th>Actual</th>\n",
       "      <th>Predict</th>\n",
       "    </tr>\n",
       "  </thead>\n",
       "  <tbody>\n",
       "    <tr>\n",
       "      <th>4</th>\n",
       "      <td>5</td>\n",
       "      <td>dog</td>\n",
       "      <td>other</td>\n",
       "    </tr>\n",
       "    <tr>\n",
       "      <th>6</th>\n",
       "      <td>7</td>\n",
       "      <td>deer</td>\n",
       "      <td>other</td>\n",
       "    </tr>\n",
       "    <tr>\n",
       "      <th>9</th>\n",
       "      <td>10</td>\n",
       "      <td>bird</td>\n",
       "      <td>other</td>\n",
       "    </tr>\n",
       "    <tr>\n",
       "      <th>11</th>\n",
       "      <td>12</td>\n",
       "      <td>bird</td>\n",
       "      <td>other</td>\n",
       "    </tr>\n",
       "    <tr>\n",
       "      <th>12</th>\n",
       "      <td>13</td>\n",
       "      <td>airplane</td>\n",
       "      <td>other</td>\n",
       "    </tr>\n",
       "    <tr>\n",
       "      <th>...</th>\n",
       "      <td>...</td>\n",
       "      <td>...</td>\n",
       "      <td>...</td>\n",
       "    </tr>\n",
       "    <tr>\n",
       "      <th>9982</th>\n",
       "      <td>9983</td>\n",
       "      <td>cat</td>\n",
       "      <td>other</td>\n",
       "    </tr>\n",
       "    <tr>\n",
       "      <th>9988</th>\n",
       "      <td>9989</td>\n",
       "      <td>dog</td>\n",
       "      <td>other</td>\n",
       "    </tr>\n",
       "    <tr>\n",
       "      <th>9990</th>\n",
       "      <td>9991</td>\n",
       "      <td>deer</td>\n",
       "      <td>other</td>\n",
       "    </tr>\n",
       "    <tr>\n",
       "      <th>9991</th>\n",
       "      <td>9992</td>\n",
       "      <td>bird</td>\n",
       "      <td>other</td>\n",
       "    </tr>\n",
       "    <tr>\n",
       "      <th>9996</th>\n",
       "      <td>9997</td>\n",
       "      <td>frog</td>\n",
       "      <td>other</td>\n",
       "    </tr>\n",
       "  </tbody>\n",
       "</table>\n",
       "<p>2834 rows × 3 columns</p>\n",
       "</div>"
      ],
      "text/plain": [
       "        Id    Actual Predict\n",
       "4        5       dog   other\n",
       "6        7      deer   other\n",
       "9       10      bird   other\n",
       "11      12      bird   other\n",
       "12      13  airplane   other\n",
       "...    ...       ...     ...\n",
       "9982  9983       cat   other\n",
       "9988  9989       dog   other\n",
       "9990  9991      deer   other\n",
       "9991  9992      bird   other\n",
       "9996  9997      frog   other\n",
       "\n",
       "[2834 rows x 3 columns]"
      ]
     },
     "execution_count": 31,
     "metadata": {},
     "output_type": "execute_result"
    }
   ],
   "source": [
    "Other_values"
   ]
  },
  {
   "cell_type": "markdown",
   "metadata": {},
   "source": [
    "## Lets try it out with test dataset"
   ]
  },
  {
   "cell_type": "code",
   "execution_count": 35,
   "metadata": {},
   "outputs": [
    {
     "data": {
      "image/png": "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\n",
      "text/plain": [
       "<Figure size 432x288 with 1 Axes>"
      ]
     },
     "metadata": {
      "needs_background": "light"
     },
     "output_type": "display_data"
    },
    {
     "name": "stdout",
     "output_type": "stream",
     "text": [
      "   Id     Predict\n",
      "0   1  automobile\n",
      "1   2       other\n",
      "2   3       other\n",
      "3   4        frog\n",
      "4   5        ship\n",
      "5   6       truck\n",
      "6   7       other\n",
      "7   8        deer\n",
      "8   9       other\n",
      "9  10       other\n"
     ]
    }
   ],
   "source": [
    "predict = model.predict(X_test)\n",
    "\n",
    "img_ = cv2.resize(X_test[0],(60,60))\n",
    "plt.imshow(img_,cmap=\"gray\")\n",
    "plt.show()\n",
    "\n",
    "output = []\n",
    "\n",
    "def location(arr):\n",
    "    max_ele = 0\n",
    "    location = 0\n",
    "    for i in range(len(arr)):\n",
    "        if arr[i] > max_ele:\n",
    "            max_ele = arr[i]\n",
    "            location = i\n",
    "    if max_ele < 0.5:\n",
    "        return 10\n",
    "    return location\n",
    "\n",
    "\n",
    "for img in predict:\n",
    "    type_img = location(img)\n",
    "    output.append(reverse_catagory[type_img])\n",
    "    \n",
    "check_label = pd.DataFrame({\"Id\":test_labels[\"id\"],\"Predict\":output})\n",
    "\n",
    "print(check_label[:10])"
   ]
  },
  {
   "cell_type": "code",
   "execution_count": 36,
   "metadata": {},
   "outputs": [
    {
     "data": {
      "text/html": [
       "<div>\n",
       "<style scoped>\n",
       "    .dataframe tbody tr th:only-of-type {\n",
       "        vertical-align: middle;\n",
       "    }\n",
       "\n",
       "    .dataframe tbody tr th {\n",
       "        vertical-align: top;\n",
       "    }\n",
       "\n",
       "    .dataframe thead th {\n",
       "        text-align: right;\n",
       "    }\n",
       "</style>\n",
       "<table border=\"1\" class=\"dataframe\">\n",
       "  <thead>\n",
       "    <tr style=\"text-align: right;\">\n",
       "      <th></th>\n",
       "      <th>Id</th>\n",
       "      <th>Predict</th>\n",
       "    </tr>\n",
       "  </thead>\n",
       "  <tbody>\n",
       "    <tr>\n",
       "      <th>1</th>\n",
       "      <td>2</td>\n",
       "      <td>other</td>\n",
       "    </tr>\n",
       "    <tr>\n",
       "      <th>2</th>\n",
       "      <td>3</td>\n",
       "      <td>other</td>\n",
       "    </tr>\n",
       "    <tr>\n",
       "      <th>6</th>\n",
       "      <td>7</td>\n",
       "      <td>other</td>\n",
       "    </tr>\n",
       "    <tr>\n",
       "      <th>8</th>\n",
       "      <td>9</td>\n",
       "      <td>other</td>\n",
       "    </tr>\n",
       "    <tr>\n",
       "      <th>9</th>\n",
       "      <td>10</td>\n",
       "      <td>other</td>\n",
       "    </tr>\n",
       "  </tbody>\n",
       "</table>\n",
       "</div>"
      ],
      "text/plain": [
       "   Id Predict\n",
       "1   2   other\n",
       "2   3   other\n",
       "6   7   other\n",
       "8   9   other\n",
       "9  10   other"
      ]
     },
     "execution_count": 36,
     "metadata": {},
     "output_type": "execute_result"
    }
   ],
   "source": [
    "Other_values = check_label.loc[check_label[\"Predict\"]==\"other\"]\n",
    "\n",
    "Other_values.head()"
   ]
  },
  {
   "cell_type": "code",
   "execution_count": null,
   "metadata": {},
   "outputs": [],
   "source": []
  }
 ],
 "metadata": {
  "kernelspec": {
   "display_name": "Python 3",
   "language": "python",
   "name": "python3"
  },
  "language_info": {
   "codemirror_mode": {
    "name": "ipython",
    "version": 3
   },
   "file_extension": ".py",
   "mimetype": "text/x-python",
   "name": "python",
   "nbconvert_exporter": "python",
   "pygments_lexer": "ipython3",
   "version": "3.6.1"
  }
 },
 "nbformat": 4,
 "nbformat_minor": 4
}

    "from tensorflow.keras.models import Sequential\n",
    "from tensorflow.keras.layers import Dense, Dropout, Activation, Flatten, Conv2D, MaxPooling2D"
   ]
  },
  {
   "cell_type": "code",
   "execution_count": 2,
   "metadata": {},
   "outputs": [
    {
     "data": {
      "text/plain": [
       "Index(['id', 'label'], dtype='object')"
      ]
     },
     "execution_count": 2,
     "metadata": {},
     "output_type": "execute_result"
    }
   ],
   "source": [
    "# loading the data\n",
    "train_dir = \"Image_classification\\\\train\\\\\"\n",
    "train_labels = pd.read_csv(r\"Image_classification\\trainLabels.csv\")\n",
    "\n",
    "validate_dir = 'Image_classification\\\\validate\\\\'\n",
    "validate_labels = pd.read_csv(r\"Image_classification\\validateLabels.csv\")\n",
    "\n",
    "test_dir = \"Image_classification\\\\test\\\\\"\n",
    "test_labels = pd.read_csv(r\"Image_classification\\testLabels.csv\")\n",
    "\n",
    "train_labels.columns"
   ]
  },
  {
   "cell_type": "code",
   "execution_count": 3,
   "metadata": {},
   "outputs": [
    {
     "data": {
      "text/plain": [
       "{'truck': 0,\n",
       " 'bird': 1,\n",
       " 'automobile': 2,\n",
       " 'cat': 3,\n",
       " 'dog': 4,\n",
       " 'ship': 5,\n",
       " 'horse': 6,\n",
       " 'frog': 7,\n",
       " 'airplane': 8,\n",
       " 'deer': 9}"
      ]
     },
     "execution_count": 3,
     "metadata": {},
     "output_type": "execute_result"
    }
   ],
   "source": [
    "# creating a label and a key dict\n",
    "catagory_list = list(set(train_labels[\"label\"]))\n",
    "catagories = {}\n",
    "for i in range(len(catagory_list)):\n",
    "    catagories[catagory_list[i]] = i\n",
    "catagories"
   ]
  },
  {
   "cell_type": "code",
   "execution_count": 12,
   "metadata": {},
   "outputs": [
    {
     "data": {
      "image/png": "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\n",
      "text/plain": [
       "<Figure size 432x288 with 1 Axes>"
      ]
     },
     "metadata": {
      "needs_background": "light"
     },
     "output_type": "display_data"
    }
   ],
   "source": [
    "# reading the data\n",
    "IMG_SIZE = 32\n",
    "training_data = []\n",
    "testing_data = []\n",
    "validating_data = []\n",
    "\n",
    "def create_training_data():\n",
    "    i = 0\n",
    "    for img_name in range(1,40001):   #len(train_labels[\"id\"])+1\n",
    "        try:\n",
    "#             print(\"hi\")\n",
    "#             print(train_dir+str(img_name)+\".png\")\n",
    "            img_array = cv2.imread((train_dir+str(img_name)+\".png\"))\n",
    "            new_array = cv2.resize(img_array,(IMG_SIZE,IMG_SIZE),3)\n",
    "            if img_name == 40000:\n",
    "                plt.imshow(new_array)\n",
    "                plt.show()\n",
    "            training_data.append([new_array,catagories[train_labels.iloc[img_name-1,1]]])\n",
    "#             print(\"yo\")\n",
    "#             i += 1\n",
    "#             if i == 2:\n",
    "#                 break\n",
    "        except Exception as e:\n",
    "            print(\"i: \",i)\n",
    "            print(\"Exception: \",e)\n",
    "            break\n",
    "\n",
    "def create_validating_data():\n",
    "    for img_name in range(1,len(validate_labels[\"id\"])+1):\n",
    "        try:\n",
    "            img_array = cv2.imread((validate_dir+str(img_name)+\".png\"))\n",
    "            new_array = cv2.resize(img_array,(IMG_SIZE,IMG_SIZE),3)\n",
    "            validating_data.append([new_array,catagories[validate_labels.iloc[img_name-1,1]]])\n",
    "        except Exception as e:\n",
    "            print(\"Exception: \",e)\n",
    "            break\n",
    "            \n",
    "def create_testing_data():\n",
    "    for img_name in range(1,len(test_labels[\"id\"])+1):\n",
    "        try:\n",
    "            path = test_dir + str(img_name) + \".jpg\"\n",
    "            img_array = cv2.imread(path)\n",
    "            new_array = cv2.resize(img_array,(IMG_SIZE,IMG_SIZE),3)\n",
    "            testing_data.append(new_array)\n",
    "        except Exception as e:\n",
    "                print(\"Exception: \",e)\n",
    "                break\n",
    "\n",
    "create_training_data()\n",
    "create_validating_data()\n",
    "create_testing_data()\n"
   ]
  },
  {
   "cell_type": "code",
   "execution_count": 13,
   "metadata": {},
   "outputs": [
    {
     "name": "stdout",
     "output_type": "stream",
     "text": [
      "length: train: 40000  validate: 10000  test: 1365\n"
     ]
    }
   ],
   "source": [
    "print(\"length: train:\",len(training_data),\" validate:\",len(validating_data), \" test:\",len(testing_data))"
   ]
  },
  {
   "cell_type": "code",
   "execution_count": 18,
   "metadata": {},
   "outputs": [],
   "source": [
    "# now to create train data\n",
    "X_train,y_train = [],[]\n",
    "X_validate,y_validate = [],[]\n",
    "X_test,y_test = [],[]\n",
    "\n",
    "for features, label in training_data:\n",
    "    X_train.append(features)\n",
    "    y_train.append(label)\n",
    "    \n",
    "for features, label in validating_data:\n",
    "    X_validate.append(features)\n",
    "    y_validate.append(label)\n",
    "    \n",
    "X_test = testing_data\n",
    "y_test = []  # to be predicted"
   ]
  },
  {
   "cell_type": "code",
   "execution_count": 19,
   "metadata": {},
   "outputs": [],
   "source": [
    "def normalize_convert(X,y):\n",
    "    # normalize the data. As the data is image we normalize it with 255\n",
    "    X = [i/255.0 for i in X]\n",
    "    # convert data into an numpy array\n",
    "    X = np.array(X)\n",
    "#     X = np.expand_dims(X, -1)\n",
    "    y = np.array(y)\n",
    "    return X,y\n",
    "\n",
    "X_train, y_train = normalize_convert(X_train,y_train)\n",
    "X_validate, y_validate = normalize_convert(X_validate,y_validate)\n",
    "X_test,y_test = normalize_convert(X_test,y_test)"
   ]
  },
  {
   "cell_type": "code",
   "execution_count": 20,
   "metadata": {
    "scrolled": true
   },
   "outputs": [
    {
     "name": "stdout",
     "output_type": "stream",
     "text": [
      "[[[0.24705882 0.24313725 0.23137255]\n",
      "  [0.17647059 0.18039216 0.16862745]\n",
      "  [0.16862745 0.18823529 0.19607843]\n",
      "  ...\n",
      "  [0.42352941 0.51764706 0.61960784]\n",
      "  [0.4        0.49019608 0.59607843]\n",
      "  [0.40392157 0.48627451 0.58039216]]\n",
      "\n",
      " [[0.07843137 0.07843137 0.0627451 ]\n",
      "  [0.         0.         0.        ]\n",
      "  [0.         0.03137255 0.07058824]\n",
      "  ...\n",
      "  [0.21568627 0.34509804 0.48235294]\n",
      "  [0.19607843 0.3254902  0.46666667]\n",
      "  [0.22352941 0.34117647 0.47843137]]\n",
      "\n",
      " [[0.08235294 0.09411765 0.09803922]\n",
      "  [0.         0.02745098 0.0627451 ]\n",
      "  [0.03137255 0.10588235 0.19215686]\n",
      "  ...\n",
      "  [0.19607843 0.32941176 0.4627451 ]\n",
      "  [0.19607843 0.32941176 0.47058824]\n",
      "  [0.16470588 0.28627451 0.42745098]]\n",
      "\n",
      " ...\n",
      "\n",
      " [[0.37647059 0.66666667 0.81568627]\n",
      "  [0.13333333 0.6        0.78823529]\n",
      "  [0.10196078 0.63137255 0.77647059]\n",
      "  ...\n",
      "  [0.2745098  0.52156863 0.62745098]\n",
      "  [0.02745098 0.12156863 0.21960784]\n",
      "  [0.07843137 0.13333333 0.20784314]]\n",
      "\n",
      " [[0.37647059 0.54509804 0.70588235]\n",
      "  [0.16470588 0.48235294 0.67843137]\n",
      "  [0.11764706 0.56470588 0.72941176]\n",
      "  ...\n",
      "  [0.36862745 0.58039216 0.72156863]\n",
      "  [0.13333333 0.24313725 0.38039216]\n",
      "  [0.13333333 0.20784314 0.3254902 ]]\n",
      "\n",
      " [[0.45490196 0.56470588 0.69411765]\n",
      "  [0.36862745 0.50588235 0.65882353]\n",
      "  [0.34117647 0.55686275 0.70196078]\n",
      "  ...\n",
      "  [0.54901961 0.72156863 0.84705882]\n",
      "  [0.32941176 0.4627451  0.59215686]\n",
      "  [0.28235294 0.36078431 0.48235294]]] 7\n"
     ]
    }
   ],
   "source": [
    "print(X_train[0],y_train[0])"
   ]
  },
  {
   "cell_type": "code",
   "execution_count": 23,
   "metadata": {},
   "outputs": [
    {
     "name": "stdout",
     "output_type": "stream",
     "text": [
      "Train on 36000 samples, validate on 4000 samples\n",
      "Epoch 1/15\n",
      "36000/36000 [==============================] - 310s 9ms/sample - loss: 1.8494 - accuracy: 0.3336 - val_loss: 1.6470 - val_accuracy: 0.4442\n",
      "Epoch 2/15\n",
      "36000/36000 [==============================] - 275s 8ms/sample - loss: 1.5371 - accuracy: 0.4519 - val_loss: 1.4660 - val_accuracy: 0.4880\n",
      "Epoch 3/15\n",
      "36000/36000 [==============================] - 283s 8ms/sample - loss: 1.3851 - accuracy: 0.5054 - val_loss: 1.3301 - val_accuracy: 0.5368\n",
      "Epoch 4/15\n",
      "36000/36000 [==============================] - 277s 8ms/sample - loss: 1.2803 - accuracy: 0.5448 - val_loss: 1.2465 - val_accuracy: 0.5680\n",
      "Epoch 5/15\n",
      "36000/36000 [==============================] - 274s 8ms/sample - loss: 1.1981 - accuracy: 0.5771 - val_loss: 1.2117 - val_accuracy: 0.5775\n",
      "Epoch 6/15\n",
      "36000/36000 [==============================] - 290s 8ms/sample - loss: 1.1339 - accuracy: 0.6003 - val_loss: 1.1166 - val_accuracy: 0.6108\n",
      "Epoch 7/15\n",
      "36000/36000 [==============================] - 305s 8ms/sample - loss: 1.0820 - accuracy: 0.6192 - val_loss: 1.0661 - val_accuracy: 0.6323\n",
      "Epoch 8/15\n",
      "36000/36000 [==============================] - 323s 9ms/sample - loss: 1.0373 - accuracy: 0.6356 - val_loss: 1.0298 - val_accuracy: 0.6385\n",
      "Epoch 9/15\n",
      "36000/36000 [==============================] - 318s 9ms/sample - loss: 0.9965 - accuracy: 0.6503 - val_loss: 1.0014 - val_accuracy: 0.6445\n",
      "Epoch 10/15\n",
      "36000/36000 [==============================] - 286s 8ms/sample - loss: 0.9584 - accuracy: 0.6652 - val_loss: 0.9638 - val_accuracy: 0.6672\n",
      "Epoch 11/15\n",
      "36000/36000 [==============================] - 281s 8ms/sample - loss: 0.9276 - accuracy: 0.6784 - val_loss: 0.9593 - val_accuracy: 0.6572\n",
      "Epoch 12/15\n",
      "36000/36000 [==============================] - 283s 8ms/sample - loss: 0.8961 - accuracy: 0.6872 - val_loss: 0.9208 - val_accuracy: 0.6795\n",
      "Epoch 13/15\n",
      "36000/36000 [==============================] - 284s 8ms/sample - loss: 0.8676 - accuracy: 0.6991 - val_loss: 0.9124 - val_accuracy: 0.6845\n",
      "Epoch 14/15\n",
      "36000/36000 [==============================] - 288s 8ms/sample - loss: 0.8428 - accuracy: 0.7069 - val_loss: 0.9131 - val_accuracy: 0.6752\n",
      "Epoch 15/15\n",
      "36000/36000 [==============================] - 348s 10ms/sample - loss: 0.8156 - accuracy: 0.7178 - val_loss: 0.8735 - val_accuracy: 0.6950\n"
     ]
    },
    {
     "data": {
      "text/plain": [
       "<tensorflow.python.keras.callbacks.History at 0x224ba1e4630>"
      ]
     },
     "execution_count": 23,
     "metadata": {},
     "output_type": "execute_result"
    }
   ],
   "source": [
    "model = Sequential()\n",
    "\n",
    "model.add(Conv2D(64, (3, 3), padding='same', input_shape=(32,32,3)))\n",
    "model.add(Activation('relu'))\n",
    "model.add(MaxPooling2D(pool_size=(2, 2)))\n",
    "model.add(Dropout(0.25))\n",
    "\n",
    "# model.add(Conv2D(32, (3, 3)))\n",
    "# model.add(Activation('relu'))\n",
    "# model.add(MaxPooling2D(pool_size=(2, 2)))\n",
    "# model.add(Dropout(0.25))\n",
    "\n",
    "model.add(Conv2D(128, (3, 3), padding='same'))\n",
    "model.add(Activation('relu'))\n",
    "model.add(MaxPooling2D(pool_size=(2, 2)))\n",
    "model.add(Dropout(0.25))\n",
    "\n",
    "# model.add(Conv2D(64, (3, 3)))\n",
    "# model.add(Activation('relu'))\n",
    "# model.add(MaxPooling2D(pool_size=(2, 2)))\n",
    "# model.add(Dropout(0.25))\n",
    "\n",
    "\n",
    "model.add(Flatten())\n",
    "model.add(Dense(512))\n",
    "model.add(Activation('relu'))\n",
    "model.add(Dropout(0.25))\n",
    "\n",
    "model.add(Dense(10, activation='softmax'))\n",
    "model.compile(optimizers.RMSprop(lr=0.0001, decay=1e-6),loss=\"sparse_categorical_crossentropy\",metrics=[\"accuracy\"])\n",
    "\n",
    "model.fit(X_train, y_train, batch_size=60, epochs=15,validation_split=0.1)"
   ]
  },
  {
   "cell_type": "code",
   "execution_count": 34,
   "metadata": {},
   "outputs": [
    {
     "name": "stdout",
     "output_type": "stream",
     "text": [
      "WARNING:tensorflow:From calling BaseResourceVariable.__init__ (from tensorflow.python.ops.resource_variable_ops) with constraint is deprecated and will be removed in a future version.\n",
      "Instructions for updating:\n",
      "If using Keras pass *_constraint arguments to layers.\n",
      "INFO:tensorflow:Assets written to: image_classification_ver2.model\\assets\n"
     ]
    }
   ],
   "source": [
    "#Save the model\n",
    "model.save(\"image_classification_ver2.model\")"
   ]
  },
  {
   "cell_type": "markdown",
   "metadata": {},
   "source": [
    "## Validating the model with valitation dataset"
   ]
  },
  {
   "cell_type": "code",
   "execution_count": 24,
   "metadata": {},
   "outputs": [
    {
     "name": "stdout",
     "output_type": "stream",
     "text": [
      "Test loss: 0.8592485727310181\n",
      "Test accuracy: 0.7093\n"
     ]
    }
   ],
   "source": [
    "test_eval = model.evaluate(X_validate, y_validate, verbose=0)\n",
    "print('Test loss:', test_eval[0])\n",
    "print('Test accuracy:', test_eval[1])"
   ]
  },
  {
   "cell_type": "code",
   "execution_count": 25,
   "metadata": {},
   "outputs": [
    {
     "name": "stdout",
     "output_type": "stream",
     "text": [
      "{0: 'truck', 1: 'bird', 2: 'automobile', 3: 'cat', 4: 'dog', 5: 'ship', 6: 'horse', 7: 'frog', 8: 'airplane', 9: 'deer', 10: 'other'}\n"
     ]
    }
   ],
   "source": [
    "# creating a reverse catagory\n",
    "reverse_catagory = {i:n for n,i in catagories.items()}\n",
    "reverse_catagory[10] = \"other\"\n",
    "print(reverse_catagory)"
   ]
  },
  {
   "cell_type": "code",
   "execution_count": 26,
   "metadata": {},
   "outputs": [],
   "source": [
    "predict = model.predict(X_validate)"
   ]
  },
  {
   "cell_type": "code",
   "execution_count": 27,
   "metadata": {},
   "outputs": [
    {
     "name": "stdout",
     "output_type": "stream",
     "text": [
      "[5.30784689e-02 1.27006392e-03 9.14946795e-01 1.39115655e-05\n",
      " 5.45306057e-06 1.71113305e-03 2.37612730e-05 1.05482150e-05\n",
      " 2.81788912e-02 7.60867726e-04]\n",
      "Mx:  0.9149468\n",
      "2\n",
      "Mx:  0.9149468\n",
      "automobile\n"
     ]
    }
   ],
   "source": [
    "def location(arr):\n",
    "    max_ele = 0\n",
    "    location = 0\n",
    "    for i in range(len(arr)):\n",
    "        if arr[i] > max_ele:\n",
    "            max_ele = arr[i]\n",
    "            location = i\n",
    "    print(\"Mx: \",max_ele)\n",
    "    if max_ele < 0.5:\n",
    "        return 10\n",
    "    return location\n",
    "\n",
    "print(predict[0])\n",
    "print(location(predict[0]))\n",
    "print(reverse_catagory[location(predict[0])])"
   ]
  },
  {
   "cell_type": "code",
   "execution_count": 28,
   "metadata": {},
   "outputs": [],
   "source": [
    "output = []\n",
    "\n",
    "def location(arr):\n",
    "    max_ele = 0\n",
    "    location = 0\n",
    "    for i in range(len(arr)):\n",
    "        if arr[i] > max_ele:\n",
    "            max_ele = arr[i]\n",
    "            location = i\n",
    "    if max_ele < 0.5:\n",
    "        return 10\n",
    "    return location\n",
    "\n",
    "\n",
    "for img in predict:\n",
    "    type_img = location(img)\n",
    "    output.append(reverse_catagory[type_img])"
   ]
  },
  {
   "cell_type": "code",
   "execution_count": 29,
   "metadata": {},
   "outputs": [
    {
     "data": {
      "text/html": [
       "<div>\n",
       "<style scoped>\n",
       "    .dataframe tbody tr th:only-of-type {\n",
       "        vertical-align: middle;\n",
       "    }\n",
       "\n",
       "    .dataframe tbody tr th {\n",
       "        vertical-align: top;\n",
       "    }\n",
       "\n",
       "    .dataframe thead th {\n",
       "        text-align: right;\n",
       "    }\n",
       "</style>\n",
       "<table border=\"1\" class=\"dataframe\">\n",
       "  <thead>\n",
       "    <tr style=\"text-align: right;\">\n",
       "      <th></th>\n",
       "      <th>Id</th>\n",
       "      <th>Actual</th>\n",
       "      <th>Predict</th>\n",
       "    </tr>\n",
       "  </thead>\n",
       "  <tbody>\n",
       "    <tr>\n",
       "      <th>0</th>\n",
       "      <td>1</td>\n",
       "      <td>automobile</td>\n",
       "      <td>automobile</td>\n",
       "    </tr>\n",
       "    <tr>\n",
       "      <th>1</th>\n",
       "      <td>2</td>\n",
       "      <td>ship</td>\n",
       "      <td>ship</td>\n",
       "    </tr>\n",
       "    <tr>\n",
       "      <th>2</th>\n",
       "      <td>3</td>\n",
       "      <td>dog</td>\n",
       "      <td>dog</td>\n",
       "    </tr>\n",
       "    <tr>\n",
       "      <th>3</th>\n",
       "      <td>4</td>\n",
       "      <td>automobile</td>\n",
       "      <td>automobile</td>\n",
       "    </tr>\n",
       "    <tr>\n",
       "      <th>4</th>\n",
       "      <td>5</td>\n",
       "      <td>dog</td>\n",
       "      <td>other</td>\n",
       "    </tr>\n",
       "    <tr>\n",
       "      <th>5</th>\n",
       "      <td>6</td>\n",
       "      <td>horse</td>\n",
       "      <td>horse</td>\n",
       "    </tr>\n",
       "    <tr>\n",
       "      <th>6</th>\n",
       "      <td>7</td>\n",
       "      <td>deer</td>\n",
       "      <td>other</td>\n",
       "    </tr>\n",
       "    <tr>\n",
       "      <th>7</th>\n",
       "      <td>8</td>\n",
       "      <td>cat</td>\n",
       "      <td>cat</td>\n",
       "    </tr>\n",
       "    <tr>\n",
       "      <th>8</th>\n",
       "      <td>9</td>\n",
       "      <td>ship</td>\n",
       "      <td>ship</td>\n",
       "    </tr>\n",
       "    <tr>\n",
       "      <th>9</th>\n",
       "      <td>10</td>\n",
       "      <td>bird</td>\n",
       "      <td>other</td>\n",
       "    </tr>\n",
       "  </tbody>\n",
       "</table>\n",
       "</div>"
      ],
      "text/plain": [
       "   Id      Actual     Predict\n",
       "0   1  automobile  automobile\n",
       "1   2        ship        ship\n",
       "2   3         dog         dog\n",
       "3   4  automobile  automobile\n",
       "4   5         dog       other\n",
       "5   6       horse       horse\n",
       "6   7        deer       other\n",
       "7   8         cat         cat\n",
       "8   9        ship        ship\n",
       "9  10        bird       other"
      ]
     },
     "execution_count": 29,
     "metadata": {},
     "output_type": "execute_result"
    }
   ],
   "source": [
    "check_label = pd.DataFrame({\"Id\":validate_labels[\"id\"],\"Actual\":validate_labels[\"label\"],\"Predict\":output})\n",
    "check_label[:10]"
   ]
  },
  {
   "cell_type": "code",
   "execution_count": 30,
   "metadata": {},
   "outputs": [],
   "source": [
    "Other_values = check_label.loc[check_label[\"Predict\"]==\"other\"]"
   ]
  },
  {
   "cell_type": "code",
   "execution_count": 31,
   "metadata": {},
   "outputs": [
    {
     "data": {
      "text/html": [
       "<div>\n",
       "<style scoped>\n",
       "    .dataframe tbody tr th:only-of-type {\n",
       "        vertical-align: middle;\n",
       "    }\n",
       "\n",
       "    .dataframe tbody tr th {\n",
       "        vertical-align: top;\n",
       "    }\n",
       "\n",
       "    .dataframe thead th {\n",
       "        text-align: right;\n",
       "    }\n",
       "</style>\n",
       "<table border=\"1\" class=\"dataframe\">\n",
       "  <thead>\n",
       "    <tr style=\"text-align: right;\">\n",
       "      <th></th>\n",
       "      <th>Id</th>\n",
       "      <th>Actual</th>\n",
       "      <th>Predict</th>\n",
       "    </tr>\n",
       "  </thead>\n",
       "  <tbody>\n",
       "    <tr>\n",
       "      <th>4</th>\n",
       "      <td>5</td>\n",
       "      <td>dog</td>\n",
       "      <td>other</td>\n",
       "    </tr>\n",
       "    <tr>\n",
       "      <th>6</th>\n",
       "      <td>7</td>\n",
       "      <td>deer</td>\n",
       "      <td>other</td>\n",
       "    </tr>\n",
       "    <tr>\n",
       "      <th>9</th>\n",
       "      <td>10</td>\n",
       "      <td>bird</td>\n",
       "      <td>other</td>\n",
       "    </tr>\n",
       "    <tr>\n",
       "      <th>11</th>\n",
       "      <td>12</td>\n",
       "      <td>bird</td>\n",
       "      <td>other</td>\n",
       "    </tr>\n",
       "    <tr>\n",
       "      <th>12</th>\n",
       "      <td>13</td>\n",
       "      <td>airplane</td>\n",
       "      <td>other</td>\n",
       "    </tr>\n",
       "    <tr>\n",
       "      <th>...</th>\n",
       "      <td>...</td>\n",
       "      <td>...</td>\n",
       "      <td>...</td>\n",
       "    </tr>\n",
       "    <tr>\n",
       "      <th>9982</th>\n",
       "      <td>9983</td>\n",
       "      <td>cat</td>\n",
       "      <td>other</td>\n",
       "    </tr>\n",
       "    <tr>\n",
       "      <th>9988</th>\n",
       "      <td>9989</td>\n",
       "      <td>dog</td>\n",
       "      <td>other</td>\n",
       "    </tr>\n",
       "    <tr>\n",
       "      <th>9990</th>\n",
       "      <td>9991</td>\n",
       "      <td>deer</td>\n",
       "      <td>other</td>\n",
       "    </tr>\n",
       "    <tr>\n",
       "      <th>9991</th>\n",
       "      <td>9992</td>\n",
       "      <td>bird</td>\n",
       "      <td>other</td>\n",
       "    </tr>\n",
       "    <tr>\n",
       "      <th>9996</th>\n",
       "      <td>9997</td>\n",
       "      <td>frog</td>\n",
       "      <td>other</td>\n",
       "    </tr>\n",
       "  </tbody>\n",
       "</table>\n",
       "<p>2834 rows × 3 columns</p>\n",
       "</div>"
      ],
      "text/plain": [
       "        Id    Actual Predict\n",
       "4        5       dog   other\n",
       "6        7      deer   other\n",
       "9       10      bird   other\n",
       "11      12      bird   other\n",
       "12      13  airplane   other\n",
       "...    ...       ...     ...\n",
       "9982  9983       cat   other\n",
       "9988  9989       dog   other\n",
       "9990  9991      deer   other\n",
       "9991  9992      bird   other\n",
       "9996  9997      frog   other\n",
       "\n",
       "[2834 rows x 3 columns]"
      ]
     },
     "execution_count": 31,
     "metadata": {},
     "output_type": "execute_result"
    }
   ],
   "source": [
    "Other_values"
   ]
  },
  {
   "cell_type": "markdown",
   "metadata": {},
   "source": [
    "## Lets try it out with test dataset"
   ]
  },
  {
   "cell_type": "code",
   "execution_count": 35,
   "metadata": {},
   "outputs": [
    {
     "data": {
      "image/png": "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\n",
      "text/plain": [
       "<Figure size 432x288 with 1 Axes>"
      ]
     },
     "metadata": {
      "needs_background": "light"
     },
     "output_type": "display_data"
    },
    {
     "name": "stdout",
     "output_type": "stream",
     "text": [
      "   Id     Predict\n",
      "0   1  automobile\n",
      "1   2       other\n",
      "2   3       other\n",
      "3   4        frog\n",
      "4   5        ship\n",
      "5   6       truck\n",
      "6   7       other\n",
      "7   8        deer\n",
      "8   9       other\n",
      "9  10       other\n"
     ]
    }
   ],
   "source": [
    "predict = model.predict(X_test)\n",
    "\n",
    "img_ = cv2.resize(X_test[0],(60,60))\n",
    "plt.imshow(img_,cmap=\"gray\")\n",
    "plt.show()\n",
    "\n",
    "output = []\n",
    "\n",
    "def location(arr):\n",
    "    max_ele = 0\n",
    "    location = 0\n",
    "    for i in range(len(arr)):\n",
    "        if arr[i] > max_ele:\n",
    "            max_ele = arr[i]\n",
    "            location = i\n",
    "    if max_ele < 0.5:\n",
    "        return 10\n",
    "    return location\n",
    "\n",
    "\n",
    "for img in predict:\n",
    "    type_img = location(img)\n",
    "    output.append(reverse_catagory[type_img])\n",
    "    \n",
    "check_label = pd.DataFrame({\"Id\":test_labels[\"id\"],\"Predict\":output})\n",
    "\n",
    "print(check_label[:10])"
   ]
  },
  {
   "cell_type": "code",
   "execution_count": 36,
   "metadata": {},
   "outputs": [
    {
     "data": {
      "text/html": [
       "<div>\n",
       "<style scoped>\n",
       "    .dataframe tbody tr th:only-of-type {\n",
       "        vertical-align: middle;\n",
       "    }\n",
       "\n",
       "    .dataframe tbody tr th {\n",
       "        vertical-align: top;\n",
       "    }\n",
       "\n",
       "    .dataframe thead th {\n",
       "        text-align: right;\n",
       "    }\n",
       "</style>\n",
       "<table border=\"1\" class=\"dataframe\">\n",
       "  <thead>\n",
       "    <tr style=\"text-align: right;\">\n",
       "      <th></th>\n",
       "      <th>Id</th>\n",
       "      <th>Predict</th>\n",
       "    </tr>\n",
       "  </thead>\n",
       "  <tbody>\n",
       "    <tr>\n",
       "      <th>1</th>\n",
       "      <td>2</td>\n",
       "      <td>other</td>\n",
       "    </tr>\n",
       "    <tr>\n",
       "      <th>2</th>\n",
       "      <td>3</td>\n",
       "      <td>other</td>\n",
       "    </tr>\n",
       "    <tr>\n",
       "      <th>6</th>\n",
       "      <td>7</td>\n",
       "      <td>other</td>\n",
       "    </tr>\n",
       "    <tr>\n",
       "      <th>8</th>\n",
       "      <td>9</td>\n",
       "      <td>other</td>\n",
       "    </tr>\n",
       "    <tr>\n",
       "      <th>9</th>\n",
       "      <td>10</td>\n",
       "      <td>other</td>\n",
       "    </tr>\n",
       "  </tbody>\n",
       "</table>\n",
       "</div>"
      ],
      "text/plain": [
       "   Id Predict\n",
       "1   2   other\n",
       "2   3   other\n",
       "6   7   other\n",
       "8   9   other\n",
       "9  10   other"
      ]
     },
     "execution_count": 36,
     "metadata": {},
     "output_type": "execute_result"
    }
   ],
   "source": [
    "Other_values = check_label.loc[check_label[\"Predict\"]==\"other\"]\n",
    "\n",
    "Other_values.head()"
   ]
  },
  {
   "cell_type": "code",
   "execution_count": null,
   "metadata": {},
   "outputs": [],
   "source": []
  }
 ],
 "metadata": {
  "kernelspec": {
   "display_name": "Python 3",
   "language": "python",
   "name": "python3"
  },
  "language_info": {
   "codemirror_mode": {
    "name": "ipython",
    "version": 3
   },
   "file_extension": ".py",
   "mimetype": "text/x-python",
   "name": "python",
   "nbconvert_exporter": "python",
   "pygments_lexer": "ipython3",
   "version": "3.6.1"
  }
 },
 "nbformat": 4,
 "nbformat_minor": 4
}

    "import matplotlib.pyplot as plt\n",
    "import cv2\n",
    "import math\n",
    "import os\n",
    "import tensorflow as tf\n",
    "from tensorflow.keras import optimizers\n",{
 "cells": [
  {
   "cell_type": "code",
   "execution_count": 10,
   "metadata": {},
   "outputs": [],
   "source": [
    "import numpy as np\n",
    "import pandas as pd\n",
    "import matplotlib.pyplot as plt\n",
    "import cv2\n",
    "import math\n",
    "import os\n",
    "import tensorflow as tf\n",
    "from tensorflow.keras import optimizers\n",
    "from tensorflow.keras.models import Sequential\n",
    "from tensorflow.keras.layers import Dense, Dropout, Activation, Flatten, Conv2D, MaxPooling2D"
   ]
  },
  {
   "cell_type": "code",
   "execution_count": 2,
   "metadata": {},
   "outputs": [
    {
     "data": {
      "text/plain": [
       "Index(['id', 'label'], dtype='object')"
      ]
     },
     "execution_count": 2,
     "metadata": {},
     "output_type": "execute_result"
    }
   ],
   "source": [
    "# loading the data\n",
    "train_dir = \"Image_classification\\\\train\\\\\"\n",
    "train_labels = pd.read_csv(r\"trainLabels.csv\")\n",
    "\n",
    "validate_dir = 'validate\\\\'\n",
    "validate_labels = pd.read_csv(r\"validateLabels.csv\")\n",
    "\n",
    "test_dir = \".Image_classification\\\\test\\\\\"\n",
    "test_labels = pd.read_csv(r\".testLabels.csv\")\n",
    "\n",
    "train_labels.columns"
   ]
  },
  {
   "cell_type": "code",
   "execution_count": 3,
   "metadata": {},
   "outputs": [
    {
     "data": {
      "text/plain": [
       "{'truck': 0,\n",
       " 'bird': 1,\n",
       " 'automobile': 2,\n",
       " 'cat': 3,\n",
       " 'dog': 4,\n",
       " 'ship': 5,\n",
       " 'horse': 6,\n",
       " 'frog': 7,\n",
       " 'airplane': 8,\n",
       " 'deer': 9}"
      ]
     },
     "execution_count": 3,
     "metadata": {},
     "output_type": "execute_result"
    }
   ],
   "source": [
    "# creating a label and a key dict\n",
    "catagory_list = list(set(train_labels[\"label\"]))\n",
    "catagories = {}\n",
    "for i in range(len(catagory_list)):\n",
    "    catagories[catagory_list[i]] = i\n",
    "catagories"
   ]
  },
  {
   "cell_type": "code",
   "execution_count": 12,
   "metadata": {},
   "outputs": [
    {
     "data": {
      "image/png": "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\n",
      "text/plain": [
       "<Figure size 432x288 with 1 Axes>"
      ]
     },
     "metadata": {
      "needs_background": "light"
     },
     "output_type": "display_data"
    }
   ],
   "source": [
    "# reading the data\n",
    "IMG_SIZE = 32\n",
    "training_data = []\n",
    "testing_data = []\n",
    "validating_data = []\n",
    "\n",
    "def create_training_data():\n",
    "    i = 0\n",
    "    for img_name in range(1,40001):   #len(train_labels[\"id\"])+1\n",
    "        try:\n",
    "#             print(\"hi\")\n",
    "#             print(train_dir+str(img_name)+\".png\")\n",
    "            img_array = cv2.imread((train_dir+str(img_name)+\".png\"))\n",
    "            new_array = cv2.resize(img_array,(IMG_SIZE,IMG_SIZE),3)\n",
    "            if img_name == 40000:\n",
    "                plt.imshow(new_array)\n",
    "                plt.show()\n",
    "            training_data.append([new_array,catagories[train_labels.iloc[img_name-1,1]]])\n",
    "#             print(\"yo\")\n",
    "#             i += 1\n",
    "#             if i == 2:\n",
    "#                 break\n",
    "        except Exception as e:\n",
    "            print(\"i: \",i)\n",
    "            print(\"Exception: \",e)\n",
    "            break\n",
    "\n",
    "def create_validating_data():\n",
    "    for img_name in range(1,len(validate_labels[\"id\"])+1):\n",
    "        try:\n",
    "            img_array = cv2.imread((validate_dir+str(img_name)+\".png\"))\n",
    "            new_array = cv2.resize(img_array,(IMG_SIZE,IMG_SIZE),3)\n",
    "            validating_data.append([new_array,catagories[validate_labels.iloc[img_name-1,1]]])\n",
    "        except Exception as e:\n",
    "            print(\"Exception: \",e)\n",
    "            break\n",
    "            \n",
    "def create_testing_data():\n",
    "    for img_name in range(1,len(test_labels[\"id\"])+1):\n",
    "        try:\n",
    "            path = test_dir + str(img_name) + \".jpg\"\n",
    "            img_array = cv2.imread(path)\n",
    "            new_array = cv2.resize(img_array,(IMG_SIZE,IMG_SIZE),3)\n",
    "            testing_data.append(new_array)\n",
    "        except Exception as e:\n",
    "                print(\"Exception: \",e)\n",
    "                break\n",
    "\n",
    "create_training_data()\n",
    "create_validating_data()\n",
    "create_testing_data()\n"
   ]
  },
  {
   "cell_type": "code",
   "execution_count": 13,
   "metadata": {},
   "outputs": [
    {
     "name": "stdout",
     "output_type": "stream",
     "text": [
      "length: train: 40000  validate: 10000  test: 1365\n"
     ]
    }
   ],
   "source": [
    "print(\"length: train:\",len(training_data),\" validate:\",len(validating_data), \" test:\",len(testing_data))"
   ]
  },
  {
   "cell_type": "code",
   "execution_count": 18,
   "metadata": {},
   "outputs": [],
   "source": [
    "# now to create train data\n",
    "X_train,y_train = [],[]\n",
    "X_validate,y_validate = [],[]\n",
    "X_test,y_test = [],[]\n",
    "\n",
    "for features, label in training_data:\n",
    "    X_train.append(features)\n",
    "    y_train.append(label)\n",
    "    \n",
    "for features, label in validating_data:\n",
    "    X_validate.append(features)\n",
    "    y_validate.append(label)\n",
    "    \n",
    "X_test = testing_data\n",
    "y_test = []  # to be predicted"
   ]
  },
  {
   "cell_type": "code",
   "execution_count": 19,
   "metadata": {},
   "outputs": [],
   "source": [
    "def normalize_convert(X,y):\n",
    "    # normalize the data. As the data is image we normalize it with 255\n",
    "    X = [i/255.0 for i in X]\n",
    "    # convert data into an numpy array\n",
    "    X = np.array(X)\n",
    "#     X = np.expand_dims(X, -1)\n",
    "    y = np.array(y)\n",
    "    return X,y\n",
    "\n",
    "X_train, y_train = normalize_convert(X_train,y_train)\n",
    "X_validate, y_validate = normalize_convert(X_validate,y_validate)\n",
    "X_test,y_test = normalize_convert(X_test,y_test)"
   ]
  },
  {
   "cell_type": "code",
   "execution_count": 20,
   "metadata": {
    "scrolled": true
   },
   "outputs": [
    {
     "name": "stdout",
     "output_type": "stream",
     "text": [
      "[[[0.24705882 0.24313725 0.23137255]\n",
      "  [0.17647059 0.18039216 0.16862745]\n",
      "  [0.16862745 0.18823529 0.19607843]\n",
      "  ...\n",
      "  [0.42352941 0.51764706 0.61960784]\n",
      "  [0.4        0.49019608 0.59607843]\n",
      "  [0.40392157 0.48627451 0.58039216]]\n",
      "\n",
      " [[0.07843137 0.07843137 0.0627451 ]\n",
      "  [0.         0.         0.        ]\n",
      "  [0.         0.03137255 0.07058824]\n",
      "  ...\n",
      "  [0.21568627 0.34509804 0.48235294]\n",
      "  [0.19607843 0.3254902  0.46666667]\n",
      "  [0.22352941 0.34117647 0.47843137]]\n",
      "\n",
      " [[0.08235294 0.09411765 0.09803922]\n",
      "  [0.         0.02745098 0.0627451 ]\n",
      "  [0.03137255 0.10588235 0.19215686]\n",
      "  ...\n",
      "  [0.19607843 0.32941176 0.4627451 ]\n",
      "  [0.19607843 0.32941176 0.47058824]\n",
      "  [0.16470588 0.28627451 0.42745098]]\n",
      "\n",
      " ...\n",
      "\n",
      " [[0.37647059 0.66666667 0.81568627]\n",
      "  [0.13333333 0.6        0.78823529]\n",
      "  [0.10196078 0.63137255 0.77647059]\n",
      "  ...\n",
      "  [0.2745098  0.52156863 0.62745098]\n",
      "  [0.02745098 0.12156863 0.21960784]\n",
      "  [0.07843137 0.13333333 0.20784314]]\n",
      "\n",
      " [[0.37647059 0.54509804 0.70588235]\n",
      "  [0.16470588 0.48235294 0.67843137]\n",
      "  [0.11764706 0.56470588 0.72941176]\n",
      "  ...\n",
      "  [0.36862745 0.58039216 0.72156863]\n",
      "  [0.13333333 0.24313725 0.38039216]\n",
      "  [0.13333333 0.20784314 0.3254902 ]]\n",
      "\n",
      " [[0.45490196 0.56470588 0.69411765]\n",
      "  [0.36862745 0.50588235 0.65882353]\n",
      "  [0.34117647 0.55686275 0.70196078]\n",
      "  ...\n",
      "  [0.54901961 0.72156863 0.84705882]\n",
      "  [0.32941176 0.4627451  0.59215686]\n",
      "  [0.28235294 0.36078431 0.48235294]]] 7\n"
     ]
    }
   ],
   "source": [
    "print(X_train[0],y_train[0])"
   ]
  },
  {
   "cell_type": "code",
   "execution_count": 23,
   "metadata": {},
   "outputs": [
    {
     "name": "stdout",
     "output_type": "stream",
     "text": [
      "Train on 36000 samples, validate on 4000 samples\n",
      "Epoch 1/15\n",
      "36000/36000 [==============================] - 310s 9ms/sample - loss: 1.8494 - accuracy: 0.3336 - val_loss: 1.6470 - val_accuracy: 0.4442\n",
      "Epoch 2/15\n",
      "36000/36000 [==============================] - 275s 8ms/sample - loss: 1.5371 - accuracy: 0.4519 - val_loss: 1.4660 - val_accuracy: 0.4880\n",
      "Epoch 3/15\n",
      "36000/36000 [==============================] - 283s 8ms/sample - loss: 1.3851 - accuracy: 0.5054 - val_loss: 1.3301 - val_accuracy: 0.5368\n",
      "Epoch 4/15\n",
      "36000/36000 [==============================] - 277s 8ms/sample - loss: 1.2803 - accuracy: 0.5448 - val_loss: 1.2465 - val_accuracy: 0.5680\n",
      "Epoch 5/15\n",
      "36000/36000 [==============================] - 274s 8ms/sample - loss: 1.1981 - accuracy: 0.5771 - val_loss: 1.2117 - val_accuracy: 0.5775\n",
      "Epoch 6/15\n",
      "36000/36000 [==============================] - 290s 8ms/sample - loss: 1.1339 - accuracy: 0.6003 - val_loss: 1.1166 - val_accuracy: 0.6108\n",
      "Epoch 7/15\n",
      "36000/36000 [==============================] - 305s 8ms/sample - loss: 1.0820 - accuracy: 0.6192 - val_loss: 1.0661 - val_accuracy: 0.6323\n",
      "Epoch 8/15\n",
      "36000/36000 [==============================] - 323s 9ms/sample - loss: 1.0373 - accuracy: 0.6356 - val_loss: 1.0298 - val_accuracy: 0.6385\n",
      "Epoch 9/15\n",
      "36000/36000 [==============================] - 318s 9ms/sample - loss: 0.9965 - accuracy: 0.6503 - val_loss: 1.0014 - val_accuracy: 0.6445\n",
      "Epoch 10/15\n",
      "36000/36000 [==============================] - 286s 8ms/sample - loss: 0.9584 - accuracy: 0.6652 - val_loss: 0.9638 - val_accuracy: 0.6672\n",
      "Epoch 11/15\n",
      "36000/36000 [==============================] - 281s 8ms/sample - loss: 0.9276 - accuracy: 0.6784 - val_loss: 0.9593 - val_accuracy: 0.6572\n",
      "Epoch 12/15\n",
      "36000/36000 [==============================] - 283s 8ms/sample - loss: 0.8961 - accuracy: 0.6872 - val_loss: 0.9208 - val_accuracy: 0.6795\n",
      "Epoch 13/15\n",
      "36000/36000 [==============================] - 284s 8ms/sample - loss: 0.8676 - accuracy: 0.6991 - val_loss: 0.9124 - val_accuracy: 0.6845\n",
      "Epoch 14/15\n",
      "36000/36000 [==============================] - 288s 8ms/sample - loss: 0.8428 - accuracy: 0.7069 - val_loss: 0.9131 - val_accuracy: 0.6752\n",
      "Epoch 15/15\n",
      "36000/36000 [==============================] - 348s 10ms/sample - loss: 0.8156 - accuracy: 0.7178 - val_loss: 0.8735 - val_accuracy: 0.6950\n"
     ]
    },
    {
     "data": {
      "text/plain": [
       "<tensorflow.python.keras.callbacks.History at 0x224ba1e4630>"
      ]
     },
     "execution_count": 23,
     "metadata": {},
     "output_type": "execute_result"
    }
   ],
   "source": [
    "model = Sequential()\n",
    "\n",
    "model.add(Conv2D(64, (3, 3), padding='same', input_shape=(32,32,3)))\n",
    "model.add(Activation('relu'))\n",
    "model.add(MaxPooling2D(pool_size=(2, 2)))\n",
    "model.add(Dropout(0.25))\n",
    "\n",
    "# model.add(Conv2D(32, (3, 3)))\n",
    "# model.add(Activation('relu'))\n",
    "# model.add(MaxPooling2D(pool_size=(2, 2)))\n",
    "# model.add(Dropout(0.25))\n",
    "\n",
    "model.add(Conv2D(128, (3, 3), padding='same'))\n",
    "model.add(Activation('relu'))\n",
    "model.add(MaxPooling2D(pool_size=(2, 2)))\n",
    "model.add(Dropout(0.25))\n",
    "\n",
    "# model.add(Conv2D(64, (3, 3)))\n",
    "# model.add(Activation('relu'))\n",
    "# model.add(MaxPooling2D(pool_size=(2, 2)))\n",
    "# model.add(Dropout(0.25))\n",
    "\n",
    "\n",
    "model.add(Flatten())\n",
    "model.add(Dense(512))\n",
    "model.add(Activation('relu'))\n",
    "model.add(Dropout(0.25))\n",
    "\n",
    "model.add(Dense(10, activation='softmax'))\n",
    "model.compile(optimizers.RMSprop(lr=0.0001, decay=1e-6),loss=\"sparse_categorical_crossentropy\",metrics=[\"accuracy\"])\n",
    "\n",
    "model.fit(X_train, y_train, batch_size=60, epochs=15,validation_split=0.1)"
   ]
  },
  {
   "cell_type": "code",
   "execution_count": 34,
   "metadata": {},
   "outputs": [
    {
     "name": "stdout",
     "output_type": "stream",
     "text": [
      "WARNING:tensorflow: calling BaseResourceVariable.__init__ (from tensorflow.python.ops.resource_variable_ops) with constraint is deprecated and will be removed in a future version.\n",
      "Instructions for updating:\n",
      "If using Keras pass *_constraint arguments to layers.\n",
      "INFO:tensorflow:Assets written to: image_classification_ver2.model\\assets\n"
     ]
    }
   ],
   "source": [
    "#Save the model\n",
    "model.save(\"image_classification_ver2.model\")"
   ]
  },
  {
   "cell_type": "markdown",
   "metadata": {},
   "source": [
    "## Validating the model with valitation dataset"
   ]
  },
  {
   "cell_type": "code",
   "execution_count": 24,
   "metadata": {},
   "outputs": [
    {
     "name": "stdout",
     "output_type": "stream",
     "text": [
      "Test loss: 0.8592485727310181\n",
      "Test accuracy: 0.7093\n"
     ]
    }
   ],
   "source": [
    "test_eval = model.evaluate(X_validate, y_validate, verbose=0)\n",
    "print('Test loss:', test_eval[0])\n",
    "print('Test accuracy:', test_eval[1])"
   ]
  },
  {
   "cell_type": "code",
   "execution_count": 25,
   "metadata": {},
   "outputs": [
    {
     "name": "stdout",
     "output_type": "stream",
     "text": [
      "{0: 'truck', 1: 'bird', 2: 'automobile', 3: 'cat', 4: 'dog', 5: 'ship', 6: 'horse', 7: 'frog', 8: 'airplane', 9: 'deer', 10: 'other'}\n"
     ]
    }
   ],
   "source": [
    "# creating a reverse catagory\n",
    "reverse_catagory = {i:n for n,i in catagories.items()}\n",
    "reverse_catagory[10] = \"other\"\n",
    "print(reverse_catagory)"
   ]
  },
  {
   "cell_type": "code",
   "execution_count": 26,
   "metadata": {},
   "outputs": [],
   "source": [
    "predict = model.predict(X_validate)"
   ]
  },
  {
   "cell_type": "code",
   "execution_count": 27,
   "metadata": {},
   "outputs": [
    {
     "name": "stdout",
     "output_type": "stream",
     "text": [
      "[5.30784689e-02 1.27006392e-03 9.14946795e-01 1.39115655e-05\n",
      " 5.45306057e-06 1.71113305e-03 2.37612730e-05 1.05482150e-05\n",
      " 2.81788912e-02 7.60867726e-04]\n",
      "Mx:  0.9149468\n",
      "2\n",
      "Mx:  0.9149468\n",
      "automobile\n"
     ]
    }
   ],
   "source": [
    "def location(arr):\n",
    "    max_ele = 0\n",
    "    location = 0\n",
    "    for i in range(len(arr)):\n",
    "        if arr[i] > max_ele:\n",
    "            max_ele = arr[i]\n",
    "            location = i\n",
    "    print(\"Mx: \",max_ele)\n",
    "    if max_ele < 0.5:\n",
    "        return 10\n",
    "    return location\n",
    "\n",
    "print(predict[0])\n",
    "print(location(predict[0]))\n",
    "print(reverse_catagory[location(predict[0])])"
   ]
  },
  {
   "cell_type": "code",
   "execution_count": 28,
   "metadata": {},
   "outputs": [],
   "source": [
    "output = []\n",
    "\n",
    "def location(arr):\n",
    "    max_ele = 0\n",
    "    location = 0\n",
    "    for i in range(len(arr)):\n",
    "        if arr[i] > max_ele:\n",
    "            max_ele = arr[i]\n",
    "            location = i\n",
    "    if max_ele < 0.5:\n",
    "        return 10\n",
    "    return location\n",
    "\n",
    "\n",
    "for img in predict:\n",
    "    type_img = location(img)\n",
    "    output.append(reverse_catagory[type_img])"
   ]
  },
  {
   "cell_type": "code",
   "execution_count": 29,
   "metadata": {},
   "outputs": [
    {
     "data": {
      "text/html": [
       "<div>\n",
       "<style scoped>\n",
       "    .dataframe tbody tr th:only-of-type {\n",
       "        vertical-align: middle;\n",
       "    }\n",
       "\n",
       "    .dataframe tbody tr th {\n",
       "        vertical-align: top;\n",
       "    }\n",
       "\n",
       "    .dataframe thead th {\n",
       "        text-align: right;\n",
       "    }\n",
       "</style>\n",
       "<table border=\"1\" class=\"dataframe\">\n",
       "  <thead>\n",
       "    <tr style=\"text-align: right;\">\n",
       "      <th></th>\n",
       "      <th>Id</th>\n",
       "      <th>Actual</th>\n",
       "      <th>Predict</th>\n",
       "    </tr>\n",
       "  </thead>\n",
       "  <tbody>\n",
       "    <tr>\n",
       "      <th>0</th>\n",
       "      <td>1</td>\n",
       "      <td>automobile</td>\n",
       "      <td>automobile</td>\n",
       "    </tr>\n",
       "    <tr>\n",
       "      <th>1</th>\n",
       "      <td>2</td>\n",
       "      <td>ship</td>\n",
       "      <td>ship</td>\n",
       "    </tr>\n",
       "    <tr>\n",
       "      <th>2</th>\n",
       "      <td>3</td>\n",
       "      <td>dog</td>\n",
       "      <td>dog</td>\n",
       "    </tr>\n",
       "    <tr>\n",
       "      <th>3</th>\n",
       "      <td>4</td>\n",
       "      <td>automobile</td>\n",
       "      <td>automobile</td>\n",
       "    </tr>\n",
       "    <tr>\n",
       "      <th>4</th>\n",
       "      <td>5</td>\n",
       "      <td>dog</td>\n",
       "      <td>other</td>\n",
       "    </tr>\n",
       "    <tr>\n",
       "      <th>5</th>\n",
       "      <td>6</td>\n",
       "      <td>horse</td>\n",
       "      <td>horse</td>\n",
       "    </tr>\n",
       "    <tr>\n",
       "      <th>6</th>\n",
       "      <td>7</td>\n",
       "      <td>deer</td>\n",
       "      <td>other</td>\n",
       "    </tr>\n",
       "    <tr>\n",
       "      <th>7</th>\n",
       "      <td>8</td>\n",
       "      <td>cat</td>\n",
       "      <td>cat</td>\n",
       "    </tr>\n",
       "    <tr>\n",
       "      <th>8</th>\n",
       "      <td>9</td>\n",
       "      <td>ship</td>\n",
       "      <td>ship</td>\n",
       "    </tr>\n",
       "    <tr>\n",
       "      <th>9</th>\n",
       "      <td>10</td>\n",
       "      <td>bird</td>\n",
       "      <td>other</td>\n",
       "    </tr>\n",
       "  </tbody>\n",
       "</table>\n",
       "</div>"
      ],
      "text/plain": [
       "   Id      Actual     Predict\n",
       "0   1  automobile  automobile\n",
       "1   2        ship        ship\n",
       "2   3         dog         dog\n",
       "3   4  automobile  automobile\n",
       "4   5         dog       other\n",
       "5   6       horse       horse\n",
       "6   7        deer       other\n",
       "7   8         cat         cat\n",
       "8   9        ship        ship\n",
       "9  10        bird       other"
      ]
     },
     "execution_count": 29,
     "metadata": {},
     "output_type": "execute_result"
    }
   ],
   "source": [
    "check_label = pd.DataFrame({\"Id\":validate_labels[\"id\"],\"Actual\":validate_labels[\"label\"],\"Predict\":output})\n",
    "check_label[:10]"
   ]
  },
  {
   "cell_type": "code",
   "execution_count": 30,
   "metadata": {},
   "outputs": [],
   "source": [
    "Other_values = check_label.loc[check_label[\"Predict\"]==\"other\"]"
   ]
  },
  {
   "cell_type": "code",
   "execution_count": 31,
   "metadata": {},
   "outputs": [
    {
     "data": {
      "text/html": [
       "<div>\n",
       "<style scoped>\n",
       "    .dataframe tbody tr th:only-of-type {\n",
       "        vertical-align: middle;\n",
       "    }\n",
       "\n",
       "    .dataframe tbody tr th {\n",
       "        vertical-align: top;\n",
       "    }\n",
       "\n",
       "    .dataframe thead th {\n",
       "        text-align: right;\n",
       "    }\n",
       "</style>\n",
       "<table border=\"1\" class=\"dataframe\">\n",
       "  <thead>\n",
       "    <tr style=\"text-align: right;\">\n",
       "      <th></th>\n",
       "      <th>Id</th>\n",
       "      <th>Actual</th>\n",
       "      <th>Predict</th>\n",
       "    </tr>\n",
       "  </thead>\n",
       "  <tbody>\n",
       "    <tr>\n",
       "      <th>4</th>\n",
       "      <td>5</td>\n",
       "      <td>dog</td>\n",
       "      <td>other</td>\n",
       "    </tr>\n",
       "    <tr>\n",
       "      <th>6</th>\n",
       "      <td>7</td>\n",
       "      <td>deer</td>\n",
       "      <td>other</td>\n",
       "    </tr>\n",
       "    <tr>\n",
       "      <th>9</th>\n",
       "      <td>10</td>\n",
       "      <td>bird</td>\n",
       "      <td>other</td>\n",
       "    </tr>\n",
       "    <tr>\n",
       "      <th>11</th>\n",
       "      <td>12</td>\n",
       "      <td>bird</td>\n",
       "      <td>other</td>\n",
       "    </tr>\n",
       "    <tr>\n",
       "      <th>12</th>\n",
       "      <td>13</td>\n",
       "      <td>airplane</td>\n",
       "      <td>other</td>\n",
       "    </tr>\n",
       "    <tr>\n",
       "      <th>...</th>\n",
       "      <td>...</td>\n",
       "      <td>...</td>\n",
       "      <td>...</td>\n",
       "    </tr>\n",
       "    <tr>\n",
       "      <th>9982</th>\n",
       "      <td>9983</td>\n",
       "      <td>cat</td>\n",
       "      <td>other</td>\n",
       "    </tr>\n",
       "    <tr>\n",
       "      <th>9988</th>\n",
       "      <td>9989</td>\n",
       "      <td>dog</td>\n",
       "      <td>other</td>\n",
       "    </tr>\n",
       "    <tr>\n",
       "      <th>9990</th>\n",
       "      <td>9991</td>\n",
       "      <td>deer</td>\n",
       "      <td>other</td>\n",
       "    </tr>\n",
       "    <tr>\n",
       "      <th>9991</th>\n",
       "      <td>9992</td>\n",
       "      <td>bird</td>\n",
       "      <td>other</td>\n",
       "    </tr>\n",
       "    <tr>\n",
       "      <th>9996</th>\n",
       "      <td>9997</td>\n",
       "      <td>frog</td>\n",
       "      <td>other</td>\n",
       "    </tr>\n",
       "  </tbody>\n",
       "</table>\n",
       "<p>2834 rows × 3 columns</p>\n",
       "</div>"
      ],
      "text/plain": [
       "        Id    Actual Predict\n",
       "4        5       dog   other\n",
       "6        7      deer   other\n",
       "9       10      bird   other\n",
       "11      12      bird   other\n",
       "12      13  airplane   other\n",
       "...    ...       ...     ...\n",
       "9982  9983       cat   other\n",
       "9988  9989       dog   other\n",
       "9990  9991      deer   other\n",
       "9991  9992      bird   other\n",
       "9996  9997      frog   other\n",
       "\n",
       "[2834 rows x 3 columns]"
      ]
     },
     "execution_count": 31,
     "metadata": {},
     "output_type": "execute_result"
    }
   ],
   "source": [
    "Other_values"
   ]
  },
  {
   "cell_type": "markdown",
   "metadata": {},
   "source": [
    "## Lets try it out with test dataset"
   ]
  },
  {
   "cell_type": "code",
   "execution_count": 35,
   "metadata": {},
   "outputs": [
    {
     "data": {
      "image/png": "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\n",
      "text/plain": [
       "<Figure size 432x288 with 1 Axes>"
      ]
     },
     "metadata": {
      "needs_background": "light"
     },
     "output_type": "display_data"
    },
    {
     "name": "stdout",
     "output_type": "stream",
     "text": [
      "   Id     Predict\n",
      "0   1  automobile\n",
      "1   2       other\n",
      "2   3       other\n",
      "3   4        frog\n",
      "4   5        ship\n",
      "5   6       truck\n",
      "6   7       other\n",
      "7   8        deer\n",
      "8   9       other\n",
      "9  10       other\n"
     ]
    }
   ],
   "source": [
    "predict = model.predict(X_test)\n",
    "\n",
    "img_ = cv2.resize(X_test[0],(60,60))\n",
    "plt.imshow(img_,cmap=\"gray\")\n",
    "plt.show()\n",
    "\n",
    "output = []\n",
    "\n",
    "def location(arr):\n",
    "    max_ele = 0\n",
    "    location = 0\n",
    "    for i in range(len(arr)):\n",
    "        if arr[i] > max_ele:\n",
    "            max_ele = arr[i]\n",
    "            location = i\n",
    "    if max_ele < 0.5:\n",
    "        return 10\n",
    "    return location\n",
    "\n",
    "\n",
    "for img in predict:\n",
    "    type_img = location(img)\n",
    "    output.append(reverse_catagory[type_img])\n",
    "    \n",
    "check_label = pd.DataFrame({\"Id\":test_labels[\"id\"],\"Predict\":output})\n",
    "\n",
    "print(check_label[:10])"
   ]
  },
  {
   "cell_type": "code",
   "execution_count": 36,
   "metadata": {},
   "outputs": [
    {
     "data": {
      "text/html": [
       "<div>\n",
       "<style scoped>\n",
       "    .dataframe tbody tr th:only-of-type {\n",
       "        vertical-align: middle;\n",
       "    }\n",
       "\n",
       "    .dataframe tbody tr th {\n",
       "        vertical-align: top;\n",
       "    }\n",
       "\n",
       "    .dataframe thead th {\n",
       "        text-align: right;\n",
       "    }\n",
       "</style>\n",
       "<table border=\"1\" class=\"dataframe\">\n",
       "  <thead>\n",
       "    <tr style=\"text-align: right;\">\n",
       "      <th></th>\n",
       "      <th>Id</th>\n",
       "      <th>Predict</th>\n",
       "    </tr>\n",
       "  </thead>\n",
       "  <tbody>\n",
       "    <tr>\n",
       "      <th>1</th>\n",
       "      <td>2</td>\n",
       "      <td>other</td>\n",
       "    </tr>\n",
       "    <tr>\n",
       "      <th>2</th>\n",
       "      <td>3</td>\n",
       "      <td>other</td>\n",
       "    </tr>\n",
       "    <tr>\n",
       "      <th>6</th>\n",
       "      <td>7</td>\n",
       "      <td>other</td>\n",
       "    </tr>\n",
       "    <tr>\n",
       "      <th>8</th>\n",
       "      <td>9</td>\n",
       "      <td>other</td>\n",
       "    </tr>\n",
       "    <tr>\n",
       "      <th>9</th>\n",
       "      <td>10</td>\n",
       "      <td>other</td>\n",
       "    </tr>\n",
       "  </tbody>\n",
       "</table>\n",
       "</div>"
      ],
      "text/plain": [
       "   Id Predict\n",
       "1   2   other\n",
       "2   3   other\n",
       "6   7   other\n",
       "8   9   other\n",
       "9  10   other"
      ]
     },
     "execution_count": 36,
     "metadata": {},
     "output_type": "execute_result"
    }
   ],
   "source": [
    "Other_values = check_label.loc[check_label[\"Predict\"]==\"other\"]\n",
    "\n",
    "Other_values.head()"
   ]
  },
  {
   "cell_type": "code",
   "execution_count": null,
   "metadata": {},
   "outputs": [],
   "source": []
  }
 ],
 "metadata": {
  "kernelspec": {
   "display_name": "Python 3",
   "language": "python",
   "name": "python3"
  },
  "language_info": {
   "codemirror_mode": {
    "name": "ipython",
    "version": 3
   },
   "file_extension": ".py",
   "mimetype": "text/x-python",
   "name": "python",
   "nbconvert_exporter": "python",
   "pygments_lexer": "ipython3",
   "version": "3.6.1"
  }
 },
 "nbformat": 4,
 "nbformat_minor": 4
}

    "from tensorflow.keras.models import Sequential\n",
    "from tensorflow.keras.layers import Dense, Dropout, Activation, Flatten, Conv2D, MaxPooling2D"
   ]
  },
  {
   "cell_type": "code",
   "execution_count": 2,
   "metadata": {},
   "outputs": [
    {
     "data": {
      "text/plain": [
       "Index(['id', 'label'], dtype='object')"
      ]
     },
     "execution_count": 2,
     "metadata": {},
     "output_type": "execute_result"
    }
   ],
   "source": [
    "# loading the data\n",
    "train_dir = \"C:\\\\Users\\\\M1050683\\\\Documents\\\\OpenVINO_training\\\\Neural_networks\\\\Image_classification\\\\train\\\\\"\n",
    "train_labels = pd.read_csv(r\"C:\\Users\\M1050683\\Documents\\OpenVINO_training\\Neural_networks\\Image_classification\\trainLabels.csv\")\n",
    "\n",
    "validate_dir = 'C:\\\\Users\\\\M1050683\\\\Documents\\\\OpenVINO_training\\\\Neural_networks\\\\Image_classification\\\\validate\\\\'\n",
    "validate_labels = pd.read_csv(r\"C:\\Users\\M1050683\\Documents\\OpenVINO_training\\Neural_networks\\Image_classification\\validateLabels.csv\")\n",
    "\n",
    "test_dir = \"C:\\\\Users\\\\M1050683\\\\Documents\\\\OpenVINO_training\\\\Neural_networks\\\\Image_classification\\\\test\\\\\"\n",
    "test_labels = pd.read_csv(r\"C:\\Users\\M1050683\\Documents\\OpenVINO_training\\Neural_networks\\Image_classification\\testLabels.csv\")\n",
    "\n",
    "train_labels.columns"
   ]
  },
  {
   "cell_type": "code",
   "execution_count": 3,
   "metadata": {},
   "outputs": [
    {
     "data": {
      "text/plain": [
       "{'truck': 0,\n",
       " 'bird': 1,\n",
       " 'automobile': 2,\n",
       " 'cat': 3,\n",
       " 'dog': 4,\n",
       " 'ship': 5,\n",
       " 'horse': 6,\n",
       " 'frog': 7,\n",
       " 'airplane': 8,\n",
       " 'deer': 9}"
      ]
     },
     "execution_count": 3,
     "metadata": {},
     "output_type": "execute_result"
    }
   ],
   "source": [
    "# creating a label and a key dict\n",
    "catagory_list = list(set(train_labels[\"label\"]))\n",
    "catagories = {}\n",
    "for i in range(len(catagory_list)):\n",
    "    catagories[catagory_list[i]] = i\n",
    "catagories"
   ]
  },
  {
   "cell_type": "code",
   "execution_count": 12,
   "metadata": {},
   "outputs": [
    {
     "data": {
      "image/png": "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\n",
      "text/plain": [
       "<Figure size 432x288 with 1 Axes>"
      ]
     },
     "metadata": {
      "needs_background": "light"
     },
     "output_type": "display_data"
    }
   ],
   "source": [
    "# reading the data\n",
    "IMG_SIZE = 32\n",
    "training_data = []\n",
    "testing_data = []\n",
    "validating_data = []\n",
    "\n",
    "def create_training_data():\n",
    "    i = 0\n",
    "    for img_name in range(1,40001):   #len(train_labels[\"id\"])+1\n",
    "        try:\n",
    "#             print(\"hi\")\n",
    "#             print(train_dir+str(img_name)+\".png\")\n",
    "            img_array = cv2.imread((train_dir+str(img_name)+\".png\"))\n",
    "            new_array = cv2.resize(img_array,(IMG_SIZE,IMG_SIZE),3)\n",
    "            if img_name == 40000:\n",
    "                plt.imshow(new_array)\n",
    "                plt.show()\n",
    "            training_data.append([new_array,catagories[train_labels.iloc[img_name-1,1]]])\n",
    "#             print(\"yo\")\n",
    "#             i += 1\n",
    "#             if i == 2:\n",
    "#                 break\n",
    "        except Exception as e:\n",
    "            print(\"i: \",i)\n",
    "            print(\"Exception: \",e)\n",
    "            break\n",
    "\n",
    "def create_validating_data():\n",
    "    for img_name in range(1,len(validate_labels[\"id\"])+1):\n",
    "        try:\n",
    "            img_array = cv2.imread((validate_dir+str(img_name)+\".png\"))\n",
    "            new_array = cv2.resize(img_array,(IMG_SIZE,IMG_SIZE),3)\n",
    "            validating_data.append([new_array,catagories[validate_labels.iloc[img_name-1,1]]])\n",
    "        except Exception as e:\n",
    "            print(\"Exception: \",e)\n",
    "            break\n",
    "            \n",
    "def create_testing_data():\n",
    "    for img_name in range(1,len(test_labels[\"id\"])+1):\n",
    "        try:\n",
    "            path = test_dir + str(img_name) + \".jpg\"\n",
    "            img_array = cv2.imread(path)\n",
    "            new_array = cv2.resize(img_array,(IMG_SIZE,IMG_SIZE),3)\n",
    "            testing_data.append(new_array)\n",
    "        except Exception as e:\n",
    "                print(\"Exception: \",e)\n",
    "                break\n",
    "\n",
    "create_training_data()\n",
    "create_validating_data()\n",
    "create_testing_data()\n"
   ]
  },
  {
   "cell_type": "code",
   "execution_count": 13,
   "metadata": {},
   "outputs": [
    {
     "name": "stdout",
     "output_type": "stream",
     "text": [
      "length: train: 40000  validate: 10000  test: 1365\n"
     ]
    }
   ],
   "source": [
    "print(\"length: train:\",len(training_data),\" validate:\",len(validating_data), \" test:\",len(testing_data))"
   ]
  },
  {
   "cell_type": "code",
   "execution_count": 18,
   "metadata": {},
   "outputs": [],
   "source": [
    "# now to create train data\n",
    "X_train,y_train = [],[]\n",
    "X_validate,y_validate = [],[]\n",
    "X_test,y_test = [],[]\n",
    "\n",
    "for features, label in training_data:\n",
    "    X_train.append(features)\n",
    "    y_train.append(label)\n",
    "    \n",
    "for features, label in validating_data:\n",
    "    X_validate.append(features)\n",
    "    y_validate.append(label)\n",
    "    \n",
    "X_test = testing_data\n",
    "y_test = []  # to be predicted"
   ]
  },
  {
   "cell_type": "code",
   "execution_count": 19,
   "metadata": {},
   "outputs": [],
   "source": [
    "def normalize_convert(X,y):\n",
    "    # normalize the data. As the data is image we normalize it with 255\n",
    "    X = [i/255.0 for i in X]\n",
    "    # convert data into an numpy array\n",
    "    X = np.array(X)\n",
    "#     X = np.expand_dims(X, -1)\n",
    "    y = np.array(y)\n",
    "    return X,y\n",
    "\n",
    "X_train, y_train = normalize_convert(X_train,y_train)\n",
    "X_validate, y_validate = normalize_convert(X_validate,y_validate)\n",
    "X_test,y_test = normalize_convert(X_test,y_test)"
   ]
  },
  {
   "cell_type": "code",
   "execution_count": 20,
   "metadata": {
    "scrolled": true
   },
   "outputs": [
    {
     "name": "stdout",
     "output_type": "stream",
     "text": [
      "[[[0.24705882 0.24313725 0.23137255]\n",
      "  [0.17647059 0.18039216 0.16862745]\n",
      "  [0.16862745 0.18823529 0.19607843]\n",
      "  ...\n",
      "  [0.42352941 0.51764706 0.61960784]\n",
      "  [0.4        0.49019608 0.59607843]\n",
      "  [0.40392157 0.48627451 0.58039216]]\n",
      "\n",
      " [[0.07843137 0.07843137 0.0627451 ]\n",
      "  [0.         0.         0.        ]\n",
      "  [0.         0.03137255 0.07058824]\n",
      "  ...\n",
      "  [0.21568627 0.34509804 0.48235294]\n",
      "  [0.19607843 0.3254902  0.46666667]\n",
      "  [0.22352941 0.34117647 0.47843137]]\n",
      "\n",
      " [[0.08235294 0.09411765 0.09803922]\n",
      "  [0.         0.02745098 0.0627451 ]\n",
      "  [0.03137255 0.10588235 0.19215686]\n",
      "  ...\n",
      "  [0.19607843 0.32941176 0.4627451 ]\n",
      "  [0.19607843 0.32941176 0.47058824]\n",
      "  [0.16470588 0.28627451 0.42745098]]\n",
      "\n",
      " ...\n",
      "\n",
      " [[0.37647059 0.66666667 0.81568627]\n",
      "  [0.13333333 0.6        0.78823529]\n",
      "  [0.10196078 0.63137255 0.77647059]\n",
      "  ...\n",
      "  [0.2745098  0.52156863 0.62745098]\n",
      "  [0.02745098 0.12156863 0.21960784]\n",
      "  [0.07843137 0.13333333 0.20784314]]\n",
      "\n",
      " [[0.37647059 0.54509804 0.70588235]\n",
      "  [0.16470588 0.48235294 0.67843137]\n",
      "  [0.11764706 0.56470588 0.72941176]\n",
      "  ...\n",
      "  [0.36862745 0.58039216 0.72156863]\n",
      "  [0.13333333 0.24313725 0.38039216]\n",
      "  [0.13333333 0.20784314 0.3254902 ]]\n",
      "\n",
      " [[0.45490196 0.56470588 0.69411765]\n",
      "  [0.36862745 0.50588235 0.65882353]\n",
      "  [0.34117647 0.55686275 0.70196078]\n",
      "  ...\n",
      "  [0.54901961 0.72156863 0.84705882]\n",
      "  [0.32941176 0.4627451  0.59215686]\n",
      "  [0.28235294 0.36078431 0.48235294]]] 7\n"
     ]
    }
   ],
   "source": [
    "print(X_train[0],y_train[0])"
   ]
  },
  {
   "cell_type": "code",
   "execution_count": 23,
   "metadata": {},
   "outputs": [
    {
     "name": "stdout",
     "output_type": "stream",
     "text": [
      "Train on 36000 samples, validate on 4000 samples\n",
      "Epoch 1/15\n",
      "36000/36000 [==============================] - 310s 9ms/sample - loss: 1.8494 - accuracy: 0.3336 - val_loss: 1.6470 - val_accuracy: 0.4442\n",
      "Epoch 2/15\n",
      "36000/36000 [==============================] - 275s 8ms/sample - loss: 1.5371 - accuracy: 0.4519 - val_loss: 1.4660 - val_accuracy: 0.4880\n",
      "Epoch 3/15\n",
      "36000/36000 [==============================] - 283s 8ms/sample - loss: 1.3851 - accuracy: 0.5054 - val_loss: 1.3301 - val_accuracy: 0.5368\n",
      "Epoch 4/15\n",
      "36000/36000 [==============================] - 277s 8ms/sample - loss: 1.2803 - accuracy: 0.5448 - val_loss: 1.2465 - val_accuracy: 0.5680\n",
      "Epoch 5/15\n",
      "36000/36000 [==============================] - 274s 8ms/sample - loss: 1.1981 - accuracy: 0.5771 - val_loss: 1.2117 - val_accuracy: 0.5775\n",
      "Epoch 6/15\n",
      "36000/36000 [==============================] - 290s 8ms/sample - loss: 1.1339 - accuracy: 0.6003 - val_loss: 1.1166 - val_accuracy: 0.6108\n",
      "Epoch 7/15\n",
      "36000/36000 [==============================] - 305s 8ms/sample - loss: 1.0820 - accuracy: 0.6192 - val_loss: 1.0661 - val_accuracy: 0.6323\n",
      "Epoch 8/15\n",
      "36000/36000 [==============================] - 323s 9ms/sample - loss: 1.0373 - accuracy: 0.6356 - val_loss: 1.0298 - val_accuracy: 0.6385\n",
      "Epoch 9/15\n",
      "36000/36000 [==============================] - 318s 9ms/sample - loss: 0.9965 - accuracy: 0.6503 - val_loss: 1.0014 - val_accuracy: 0.6445\n",
      "Epoch 10/15\n",
      "36000/36000 [==============================] - 286s 8ms/sample - loss: 0.9584 - accuracy: 0.6652 - val_loss: 0.9638 - val_accuracy: 0.6672\n",
      "Epoch 11/15\n",
      "36000/36000 [==============================] - 281s 8ms/sample - loss: 0.9276 - accuracy: 0.6784 - val_loss: 0.9593 - val_accuracy: 0.6572\n",
      "Epoch 12/15\n",
      "36000/36000 [==============================] - 283s 8ms/sample - loss: 0.8961 - accuracy: 0.6872 - val_loss: 0.9208 - val_accuracy: 0.6795\n",
      "Epoch 13/15\n",
      "36000/36000 [==============================] - 284s 8ms/sample - loss: 0.8676 - accuracy: 0.6991 - val_loss: 0.9124 - val_accuracy: 0.6845\n",
      "Epoch 14/15\n",
      "36000/36000 [==============================] - 288s 8ms/sample - loss: 0.8428 - accuracy: 0.7069 - val_loss: 0.9131 - val_accuracy: 0.6752\n",
      "Epoch 15/15\n",
      "36000/36000 [==============================] - 348s 10ms/sample - loss: 0.8156 - accuracy: 0.7178 - val_loss: 0.8735 - val_accuracy: 0.6950\n"
     ]
    },
    {
     "data": {
      "text/plain": [
       "<tensorflow.python.keras.callbacks.History at 0x224ba1e4630>"
      ]
     },
     "execution_count": 23,
     "metadata": {},
     "output_type": "execute_result"
    }
   ],
   "source": [
    "model = Sequential()\n",
    "\n",
    "model.add(Conv2D(64, (3, 3), padding='same', input_shape=(32,32,3)))\n",
    "model.add(Activation('relu'))\n",
    "model.add(MaxPooling2D(pool_size=(2, 2)))\n",
    "model.add(Dropout(0.25))\n",
    "\n",
    "# model.add(Conv2D(32, (3, 3)))\n",
    "# model.add(Activation('relu'))\n",
    "# model.add(MaxPooling2D(pool_size=(2, 2)))\n",
    "# model.add(Dropout(0.25))\n",
    "\n",
    "model.add(Conv2D(128, (3, 3), padding='same'))\n",
    "model.add(Activation('relu'))\n",
    "model.add(MaxPooling2D(pool_size=(2, 2)))\n",
    "model.add(Dropout(0.25))\n",
    "\n",
    "# model.add(Conv2D(64, (3, 3)))\n",
    "# model.add(Activation('relu'))\n",
    "# model.add(MaxPooling2D(pool_size=(2, 2)))\n",
    "# model.add(Dropout(0.25))\n",
    "\n",
    "\n",
    "model.add(Flatten())\n",
    "model.add(Dense(512))\n",
    "model.add(Activation('relu'))\n",
    "model.add(Dropout(0.25))\n",
    "\n",
    "model.add(Dense(10, activation='softmax'))\n",
    "model.compile(optimizers.RMSprop(lr=0.0001, decay=1e-6),loss=\"sparse_categorical_crossentropy\",metrics=[\"accuracy\"])\n",
    "\n",
    "model.fit(X_train, y_train, batch_size=60, epochs=15,validation_split=0.1)"
   ]
  },
  {
   "cell_type": "code",
   "execution_count": 34,
   "metadata": {},
   "outputs": [
    {
     "name": "stdout",
     "output_type": "stream",
     "text": [
      "WARNING:tensorflow:From c:\\users\\m1050683\\appdata\\local\\programs\\python\\python36\\lib\\site-packages\\tensorflow_core\\python\\ops\\resource_variable_ops.py:1781: calling BaseResourceVariable.__init__ (from tensorflow.python.ops.resource_variable_ops) with constraint is deprecated and will be removed in a future version.\n",
      "Instructions for updating:\n",
      "If using Keras pass *_constraint arguments to layers.\n",
      "INFO:tensorflow:Assets written to: image_classification_ver2.model\\assets\n"
     ]
    }
   ],
   "source": [
    "#Save the model\n",
    "model.save(\"image_classification_ver2.model\")"
   ]
  },
  {
   "cell_type": "markdown",
   "metadata": {},
   "source": [
    "## Validating the model with valitation dataset"
   ]
  },
  {
   "cell_type": "code",
   "execution_count": 24,
   "metadata": {},
   "outputs": [
    {
     "name": "stdout",
     "output_type": "stream",
     "text": [
      "Test loss: 0.8592485727310181\n",
      "Test accuracy: 0.7093\n"
     ]
    }
   ],
   "source": [
    "test_eval = model.evaluate(X_validate, y_validate, verbose=0)\n",
    "print('Test loss:', test_eval[0])\n",
    "print('Test accuracy:', test_eval[1])"
   ]
  },
  {
   "cell_type": "code",
   "execution_count": 25,
   "metadata": {},
   "outputs": [
    {
     "name": "stdout",
     "output_type": "stream",
     "text": [
      "{0: 'truck', 1: 'bird', 2: 'automobile', 3: 'cat', 4: 'dog', 5: 'ship', 6: 'horse', 7: 'frog', 8: 'airplane', 9: 'deer', 10: 'other'}\n"
     ]
    }
   ],
   "source": [
    "# creating a reverse catagory\n",
    "reverse_catagory = {i:n for n,i in catagories.items()}\n",
    "reverse_catagory[10] = \"other\"\n",
    "print(reverse_catagory)"
   ]
  },
  {
   "cell_type": "code",
   "execution_count": 26,
   "metadata": {},
   "outputs": [],
   "source": [
    "predict = model.predict(X_validate)"
   ]
  },
  {
   "cell_type": "code",
   "execution_count": 27,
   "metadata": {},
   "outputs": [
    {
     "name": "stdout",
     "output_type": "stream",
     "text": [
      "[5.30784689e-02 1.27006392e-03 9.14946795e-01 1.39115655e-05\n",
      " 5.45306057e-06 1.71113305e-03 2.37612730e-05 1.05482150e-05\n",
      " 2.81788912e-02 7.60867726e-04]\n",
      "Mx:  0.9149468\n",
      "2\n",
      "Mx:  0.9149468\n",
      "automobile\n"
     ]
    }
   ],
   "source": [
    "def location(arr):\n",
    "    max_ele = 0\n",
    "    location = 0\n",
    "    for i in range(len(arr)):\n",
    "        if arr[i] > max_ele:\n",
    "            max_ele = arr[i]\n",
    "            location = i\n",
    "    print(\"Mx: \",max_ele)\n",
    "    if max_ele < 0.5:\n",
    "        return 10\n",
    "    return location\n",
    "\n",
    "print(predict[0])\n",
    "print(location(predict[0]))\n",
    "print(reverse_catagory[location(predict[0])])"
   ]
  },
  {
   "cell_type": "code",
   "execution_count": 28,
   "metadata": {},
   "outputs": [],
   "source": [
    "output = []\n",
    "\n",
    "def location(arr):\n",
    "    max_ele = 0\n",
    "    location = 0\n",
    "    for i in range(len(arr)):\n",
    "        if arr[i] > max_ele:\n",
    "            max_ele = arr[i]\n",
    "            location = i\n",
    "    if max_ele < 0.5:\n",
    "        return 10\n",
    "    return location\n",
    "\n",
    "\n",
    "for img in predict:\n",
    "    type_img = location(img)\n",
    "    output.append(reverse_catagory[type_img])"
   ]
  },
  {
   "cell_type": "code",
   "execution_count": 29,
   "metadata": {},
   "outputs": [
    {
     "data": {
      "text/html": [
       "<div>\n",
       "<style scoped>\n",
       "    .dataframe tbody tr th:only-of-type {\n",
       "        vertical-align: middle;\n",
       "    }\n",
       "\n",
       "    .dataframe tbody tr th {\n",
       "        vertical-align: top;\n",
       "    }\n",
       "\n",
       "    .dataframe thead th {\n",
       "        text-align: right;\n",
       "    }\n",
       "</style>\n",
       "<table border=\"1\" class=\"dataframe\">\n",
       "  <thead>\n",
       "    <tr style=\"text-align: right;\">\n",
       "      <th></th>\n",
       "      <th>Id</th>\n",
       "      <th>Actual</th>\n",
       "      <th>Predict</th>\n",
       "    </tr>\n",
       "  </thead>\n",
       "  <tbody>\n",
       "    <tr>\n",
       "      <th>0</th>\n",
       "      <td>1</td>\n",
       "      <td>automobile</td>\n",
       "      <td>automobile</td>\n",
       "    </tr>\n",
       "    <tr>\n",
       "      <th>1</th>\n",
       "      <td>2</td>\n",
       "      <td>ship</td>\n",
       "      <td>ship</td>\n",
       "    </tr>\n",
       "    <tr>\n",
       "      <th>2</th>\n",
       "      <td>3</td>\n",
       "      <td>dog</td>\n",
       "      <td>dog</td>\n",
       "    </tr>\n",
       "    <tr>\n",
       "      <th>3</th>\n",
       "      <td>4</td>\n",
       "      <td>automobile</td>\n",
       "      <td>automobile</td>\n",
       "    </tr>\n",
       "    <tr>\n",
       "      <th>4</th>\n",
       "      <td>5</td>\n",
       "      <td>dog</td>\n",
       "      <td>other</td>\n",
       "    </tr>\n",
       "    <tr>\n",
       "      <th>5</th>\n",
       "      <td>6</td>\n",
       "      <td>horse</td>\n",
       "      <td>horse</td>\n",
       "    </tr>\n",
       "    <tr>\n",
       "      <th>6</th>\n",
       "      <td>7</td>\n",
       "      <td>deer</td>\n",
       "      <td>other</td>\n",
       "    </tr>\n",
       "    <tr>\n",
       "      <th>7</th>\n",
       "      <td>8</td>\n",
       "      <td>cat</td>\n",
       "      <td>cat</td>\n",
       "    </tr>\n",
       "    <tr>\n",
       "      <th>8</th>\n",
       "      <td>9</td>\n",
       "      <td>ship</td>\n",
       "      <td>ship</td>\n",
       "    </tr>\n",
       "    <tr>\n",
       "      <th>9</th>\n",
       "      <td>10</td>\n",
       "      <td>bird</td>\n",
       "      <td>other</td>\n",
       "    </tr>\n",
       "  </tbody>\n",
       "</table>\n",
       "</div>"
      ],
      "text/plain": [
       "   Id      Actual     Predict\n",
       "0   1  automobile  automobile\n",
       "1   2        ship        ship\n",
       "2   3         dog         dog\n",
       "3   4  automobile  automobile\n",
       "4   5         dog       other\n",
       "5   6       horse       horse\n",
       "6   7        deer       other\n",
       "7   8         cat         cat\n",
       "8   9        ship        ship\n",
       "9  10        bird       other"
      ]
     },
     "execution_count": 29,
     "metadata": {},
     "output_type": "execute_result"
    }
   ],
   "source": [
    "check_label = pd.DataFrame({\"Id\":validate_labels[\"id\"],\"Actual\":validate_labels[\"label\"],\"Predict\":output})\n",
    "check_label[:10]"
   ]
  },
  {
   "cell_type": "code",
   "execution_count": 30,
   "metadata": {},
   "outputs": [],
   "source": [
    "Other_values = check_label.loc[check_label[\"Predict\"]==\"other\"]"
   ]
  },
  {
   "cell_type": "code",
   "execution_count": 31,
   "metadata": {},
   "outputs": [
    {
     "data": {
      "text/html": [
       "<div>\n",
       "<style scoped>\n",
       "    .dataframe tbody tr th:only-of-type {\n",
       "        vertical-align: middle;\n",
       "    }\n",
       "\n",
       "    .dataframe tbody tr th {\n",
       "        vertical-align: top;\n",
       "    }\n",
       "\n",
       "    .dataframe thead th {\n",
       "        text-align: right;\n",
       "    }\n",
       "</style>\n",
       "<table border=\"1\" class=\"dataframe\">\n",
       "  <thead>\n",
       "    <tr style=\"text-align: right;\">\n",
       "      <th></th>\n",
       "      <th>Id</th>\n",
       "      <th>Actual</th>\n",
       "      <th>Predict</th>\n",
       "    </tr>\n",
       "  </thead>\n",
       "  <tbody>\n",
       "    <tr>\n",
       "      <th>4</th>\n",
       "      <td>5</td>\n",
       "      <td>dog</td>\n",
       "      <td>other</td>\n",
       "    </tr>\n",
       "    <tr>\n",
       "      <th>6</th>\n",
       "      <td>7</td>\n",
       "      <td>deer</td>\n",
       "      <td>other</td>\n",
       "    </tr>\n",
       "    <tr>\n",
       "      <th>9</th>\n",
       "      <td>10</td>\n",
       "      <td>bird</td>\n",
       "      <td>other</td>\n",
       "    </tr>\n",
       "    <tr>\n",
       "      <th>11</th>\n",
       "      <td>12</td>\n",
       "      <td>bird</td>\n",
       "      <td>other</td>\n",
       "    </tr>\n",
       "    <tr>\n",
       "      <th>12</th>\n",
       "      <td>13</td>\n",
       "      <td>airplane</td>\n",
       "      <td>other</td>\n",
       "    </tr>\n",
       "    <tr>\n",
       "      <th>...</th>\n",
       "      <td>...</td>\n",
       "      <td>...</td>\n",
       "      <td>...</td>\n",
       "    </tr>\n",
       "    <tr>\n",
       "      <th>9982</th>\n",
       "      <td>9983</td>\n",
       "      <td>cat</td>\n",
       "      <td>other</td>\n",
       "    </tr>\n",
       "    <tr>\n",
       "      <th>9988</th>\n",
       "      <td>9989</td>\n",
       "      <td>dog</td>\n",
       "      <td>other</td>\n",
       "    </tr>\n",
       "    <tr>\n",
       "      <th>9990</th>\n",
       "      <td>9991</td>\n",
       "      <td>deer</td>\n",
       "      <td>other</td>\n",
       "    </tr>\n",
       "    <tr>\n",
       "      <th>9991</th>\n",
       "      <td>9992</td>\n",
       "      <td>bird</td>\n",
       "      <td>other</td>\n",
       "    </tr>\n",
       "    <tr>\n",
       "      <th>9996</th>\n",
       "      <td>9997</td>\n",
       "      <td>frog</td>\n",
       "      <td>other</td>\n",
       "    </tr>\n",
       "  </tbody>\n",
       "</table>\n",
       "<p>2834 rows × 3 columns</p>\n",
       "</div>"
      ],
      "text/plain": [
       "        Id    Actual Predict\n",
       "4        5       dog   other\n",
       "6        7      deer   other\n",
       "9       10      bird   other\n",
       "11      12      bird   other\n",
       "12      13  airplane   other\n",
       "...    ...       ...     ...\n",
       "9982  9983       cat   other\n",
       "9988  9989       dog   other\n",
       "9990  9991      deer   other\n",
       "9991  9992      bird   other\n",
       "9996  9997      frog   other\n",
       "\n",
       "[2834 rows x 3 columns]"
      ]
     },
     "execution_count": 31,
     "metadata": {},
     "output_type": "execute_result"
    }
   ],
   "source": [
    "Other_values"
   ]
  },
  {
   "cell_type": "markdown",
   "metadata": {},
   "source": [
    "## Lets try it out with test dataset"
   ]
  },
  {
   "cell_type": "code",
   "execution_count": 35,
   "metadata": {},
   "outputs": [
    {
     "data": {
      "image/png": "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\n",
      "text/plain": [
       "<Figure size 432x288 with 1 Axes>"
      ]
     },
     "metadata": {
      "needs_background": "light"
     },
     "output_type": "display_data"
    },
    {
     "name": "stdout",
     "output_type": "stream",
     "text": [
      "   Id     Predict\n",
      "0   1  automobile\n",
      "1   2       other\n",
      "2   3       other\n",
      "3   4        frog\n",
      "4   5        ship\n",
      "5   6       truck\n",
      "6   7       other\n",
      "7   8        deer\n",
      "8   9       other\n",
      "9  10       other\n"
     ]
    }
   ],
   "source": [
    "predict = model.predict(X_test)\n",
    "\n",
    "img_ = cv2.resize(X_test[0],(60,60))\n",
    "plt.imshow(img_,cmap=\"gray\")\n",
    "plt.show()\n",
    "\n",
    "output = []\n",
    "\n",
    "def location(arr):\n",
    "    max_ele = 0\n",
    "    location = 0\n",
    "    for i in range(len(arr)):\n",
    "        if arr[i] > max_ele:\n",
    "            max_ele = arr[i]\n",
    "            location = i\n",
    "    if max_ele < 0.5:\n",
    "        return 10\n",
    "    return location\n",
    "\n",
    "\n",
    "for img in predict:\n",
    "    type_img = location(img)\n",
    "    output.append(reverse_catagory[type_img])\n",
    "    \n",
    "check_label = pd.DataFrame({\"Id\":test_labels[\"id\"],\"Predict\":output})\n",
    "\n",
    "print(check_label[:10])"
   ]
  },
  {
   "cell_type": "code",
   "execution_count": 36,
   "metadata": {},
   "outputs": [
    {
     "data": {
      "text/html": [
       "<div>\n",
       "<style scoped>\n",
       "    .dataframe tbody tr th:only-of-type {\n",
       "        vertical-align: middle;\n",
       "    }\n",
       "\n",
       "    .dataframe tbody tr th {\n",
       "        vertical-align: top;\n",
       "    }\n",
       "\n",
       "    .dataframe thead th {\n",
       "        text-align: right;\n",
       "    }\n",
       "</style>\n",
       "<table border=\"1\" class=\"dataframe\">\n",
       "  <thead>\n",
       "    <tr style=\"text-align: right;\">\n",
       "      <th></th>\n",
       "      <th>Id</th>\n",
       "      <th>Predict</th>\n",
       "    </tr>\n",
       "  </thead>\n",
       "  <tbody>\n",
       "    <tr>\n",
       "      <th>1</th>\n",
       "      <td>2</td>\n",
       "      <td>other</td>\n",
       "    </tr>\n",
       "    <tr>\n",
       "      <th>2</th>\n",
       "      <td>3</td>\n",
       "      <td>other</td>\n",
       "    </tr>\n",
       "    <tr>\n",
       "      <th>6</th>\n",
       "      <td>7</td>\n",
       "      <td>other</td>\n",
       "    </tr>\n",
       "    <tr>\n",
       "      <th>8</th>\n",
       "      <td>9</td>\n",
       "      <td>other</td>\n",
       "    </tr>\n",
       "    <tr>\n",
       "      <th>9</th>\n",
       "      <td>10</td>\n",
       "      <td>other</td>\n",
       "    </tr>\n",
       "  </tbody>\n",
       "</table>\n",
       "</div>"
      ],
      "text/plain": [
       "   Id Predict\n",
       "1   2   other\n",
       "2   3   other\n",
       "6   7   other\n",
       "8   9   other\n",
       "9  10   other"
      ]
     },
     "execution_count": 36,
     "metadata": {},
     "output_type": "execute_result"
    }
   ],
   "source": [
    "Other_values = check_label.loc[check_label[\"Predict\"]==\"other\"]\n",
    "\n",
    "Other_values.head()"
   ]
  },
  {
   "cell_type": "code",
   "execution_count": null,
   "metadata": {},
   "outputs": [],
   "source": []
  }
 ],
 "metadata": {
  "kernelspec": {
   "display_name": "Python 3",
   "language": "python",
   "name": "python3"
  },
  "language_info": {
   "codemirror_mode": {
    "name": "ipython",
    "version": 3
   },
   "file_extension": ".py",
   "mimetype": "text/x-python",
   "name": "python",
   "nbconvert_exporter": "python",
   "pygments_lexer": "ipython3",
   "version": "3.6.1"
  }
 },
 "nbformat": 4,
 "nbformat_minor": 4
}
